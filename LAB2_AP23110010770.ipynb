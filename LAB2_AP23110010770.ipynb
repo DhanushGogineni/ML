{
  "cells": [
    {
      "cell_type": "markdown",
      "metadata": {
        "id": "HW29PqXKXgP0"
      },
      "source": [
        "# 🧑‍🎓 Student Version — Solutions Removed\n",
        "- Use the reflection prompts and hints.\n",
        "- Your instructor will share solutions separately."
      ],
      "id": "HW29PqXKXgP0"
    },
    {
      "cell_type": "code",
      "metadata": {
        "id": "X2erJrSYXgP3"
      },
      "source": [
        "REVEAL_SOLUTIONS = False\n",
        "print('Solutions are hidden in the Student Version.')"
      ],
      "outputs": [],
      "execution_count": null,
      "id": "X2erJrSYXgP3"
    },
    {
      "cell_type": "markdown",
      "metadata": {
        "id": "mfapE5BoXgP5"
      },
      "source": [
        "# Pandas in Google Colab — 2-Hour Hands-On (+ Advanced & Capstone)\n",
        "**With Reflection Prompts After Each Section**\n",
        "**Last updated:** 2025-08-15\n",
        "\n",
        "Run top-to-bottom. Attempt **Exercises**, then write your **✍️ Analysis** under each section."
      ],
      "id": "mfapE5BoXgP5"
    },
    {
      "cell_type": "markdown",
      "metadata": {
        "id": "5GCLXwxGXgP6"
      },
      "source": [
        "## 0) Setup & Load the **tips** dataset (10m)"
      ],
      "id": "5GCLXwxGXgP6"
    },
    {
      "cell_type": "code",
      "metadata": {
        "colab": {
          "base_uri": "https://localhost:8080/",
          "height": 206
        },
        "id": "EyOdDI69XgP6",
        "outputId": "70084e3d-7621-4c7b-cc7b-c6bd4bd48989"
      },
      "source": [
        "import pandas as pd, numpy as np, matplotlib.pyplot as plt\n",
        "pd.set_option('display.max_rows', 10); pd.set_option('display.precision', 3)\n",
        "url = \"https://raw.githubusercontent.com/mwaskom/seaborn-data/master/tips.csv\"\n",
        "tips = pd.read_csv(url); tips.head()"
      ],
      "outputs": [
        {
          "output_type": "execute_result",
          "data": {
            "text/plain": [
              "   total_bill   tip     sex smoker  day    time  size\n",
              "0       16.99  1.01  Female     No  Sun  Dinner     2\n",
              "1       10.34  1.66    Male     No  Sun  Dinner     3\n",
              "2       21.01  3.50    Male     No  Sun  Dinner     3\n",
              "3       23.68  3.31    Male     No  Sun  Dinner     2\n",
              "4       24.59  3.61  Female     No  Sun  Dinner     4"
            ],
            "text/html": [
              "\n",
              "  <div id=\"df-573e8f7a-17c8-435c-b0a5-306f39919faa\" class=\"colab-df-container\">\n",
              "    <div>\n",
              "<style scoped>\n",
              "    .dataframe tbody tr th:only-of-type {\n",
              "        vertical-align: middle;\n",
              "    }\n",
              "\n",
              "    .dataframe tbody tr th {\n",
              "        vertical-align: top;\n",
              "    }\n",
              "\n",
              "    .dataframe thead th {\n",
              "        text-align: right;\n",
              "    }\n",
              "</style>\n",
              "<table border=\"1\" class=\"dataframe\">\n",
              "  <thead>\n",
              "    <tr style=\"text-align: right;\">\n",
              "      <th></th>\n",
              "      <th>total_bill</th>\n",
              "      <th>tip</th>\n",
              "      <th>sex</th>\n",
              "      <th>smoker</th>\n",
              "      <th>day</th>\n",
              "      <th>time</th>\n",
              "      <th>size</th>\n",
              "    </tr>\n",
              "  </thead>\n",
              "  <tbody>\n",
              "    <tr>\n",
              "      <th>0</th>\n",
              "      <td>16.99</td>\n",
              "      <td>1.01</td>\n",
              "      <td>Female</td>\n",
              "      <td>No</td>\n",
              "      <td>Sun</td>\n",
              "      <td>Dinner</td>\n",
              "      <td>2</td>\n",
              "    </tr>\n",
              "    <tr>\n",
              "      <th>1</th>\n",
              "      <td>10.34</td>\n",
              "      <td>1.66</td>\n",
              "      <td>Male</td>\n",
              "      <td>No</td>\n",
              "      <td>Sun</td>\n",
              "      <td>Dinner</td>\n",
              "      <td>3</td>\n",
              "    </tr>\n",
              "    <tr>\n",
              "      <th>2</th>\n",
              "      <td>21.01</td>\n",
              "      <td>3.50</td>\n",
              "      <td>Male</td>\n",
              "      <td>No</td>\n",
              "      <td>Sun</td>\n",
              "      <td>Dinner</td>\n",
              "      <td>3</td>\n",
              "    </tr>\n",
              "    <tr>\n",
              "      <th>3</th>\n",
              "      <td>23.68</td>\n",
              "      <td>3.31</td>\n",
              "      <td>Male</td>\n",
              "      <td>No</td>\n",
              "      <td>Sun</td>\n",
              "      <td>Dinner</td>\n",
              "      <td>2</td>\n",
              "    </tr>\n",
              "    <tr>\n",
              "      <th>4</th>\n",
              "      <td>24.59</td>\n",
              "      <td>3.61</td>\n",
              "      <td>Female</td>\n",
              "      <td>No</td>\n",
              "      <td>Sun</td>\n",
              "      <td>Dinner</td>\n",
              "      <td>4</td>\n",
              "    </tr>\n",
              "  </tbody>\n",
              "</table>\n",
              "</div>\n",
              "    <div class=\"colab-df-buttons\">\n",
              "\n",
              "  <div class=\"colab-df-container\">\n",
              "    <button class=\"colab-df-convert\" onclick=\"convertToInteractive('df-573e8f7a-17c8-435c-b0a5-306f39919faa')\"\n",
              "            title=\"Convert this dataframe to an interactive table.\"\n",
              "            style=\"display:none;\">\n",
              "\n",
              "  <svg xmlns=\"http://www.w3.org/2000/svg\" height=\"24px\" viewBox=\"0 -960 960 960\">\n",
              "    <path d=\"M120-120v-720h720v720H120Zm60-500h600v-160H180v160Zm220 220h160v-160H400v160Zm0 220h160v-160H400v160ZM180-400h160v-160H180v160Zm440 0h160v-160H620v160ZM180-180h160v-160H180v160Zm440 0h160v-160H620v160Z\"/>\n",
              "  </svg>\n",
              "    </button>\n",
              "\n",
              "  <style>\n",
              "    .colab-df-container {\n",
              "      display:flex;\n",
              "      gap: 12px;\n",
              "    }\n",
              "\n",
              "    .colab-df-convert {\n",
              "      background-color: #E8F0FE;\n",
              "      border: none;\n",
              "      border-radius: 50%;\n",
              "      cursor: pointer;\n",
              "      display: none;\n",
              "      fill: #1967D2;\n",
              "      height: 32px;\n",
              "      padding: 0 0 0 0;\n",
              "      width: 32px;\n",
              "    }\n",
              "\n",
              "    .colab-df-convert:hover {\n",
              "      background-color: #E2EBFA;\n",
              "      box-shadow: 0px 1px 2px rgba(60, 64, 67, 0.3), 0px 1px 3px 1px rgba(60, 64, 67, 0.15);\n",
              "      fill: #174EA6;\n",
              "    }\n",
              "\n",
              "    .colab-df-buttons div {\n",
              "      margin-bottom: 4px;\n",
              "    }\n",
              "\n",
              "    [theme=dark] .colab-df-convert {\n",
              "      background-color: #3B4455;\n",
              "      fill: #D2E3FC;\n",
              "    }\n",
              "\n",
              "    [theme=dark] .colab-df-convert:hover {\n",
              "      background-color: #434B5C;\n",
              "      box-shadow: 0px 1px 3px 1px rgba(0, 0, 0, 0.15);\n",
              "      filter: drop-shadow(0px 1px 2px rgba(0, 0, 0, 0.3));\n",
              "      fill: #FFFFFF;\n",
              "    }\n",
              "  </style>\n",
              "\n",
              "    <script>\n",
              "      const buttonEl =\n",
              "        document.querySelector('#df-573e8f7a-17c8-435c-b0a5-306f39919faa button.colab-df-convert');\n",
              "      buttonEl.style.display =\n",
              "        google.colab.kernel.accessAllowed ? 'block' : 'none';\n",
              "\n",
              "      async function convertToInteractive(key) {\n",
              "        const element = document.querySelector('#df-573e8f7a-17c8-435c-b0a5-306f39919faa');\n",
              "        const dataTable =\n",
              "          await google.colab.kernel.invokeFunction('convertToInteractive',\n",
              "                                                    [key], {});\n",
              "        if (!dataTable) return;\n",
              "\n",
              "        const docLinkHtml = 'Like what you see? Visit the ' +\n",
              "          '<a target=\"_blank\" href=https://colab.research.google.com/notebooks/data_table.ipynb>data table notebook</a>'\n",
              "          + ' to learn more about interactive tables.';\n",
              "        element.innerHTML = '';\n",
              "        dataTable['output_type'] = 'display_data';\n",
              "        await google.colab.output.renderOutput(dataTable, element);\n",
              "        const docLink = document.createElement('div');\n",
              "        docLink.innerHTML = docLinkHtml;\n",
              "        element.appendChild(docLink);\n",
              "      }\n",
              "    </script>\n",
              "  </div>\n",
              "\n",
              "\n",
              "    <div id=\"df-a73c91c8-cc1d-4862-ab56-9755ef6850c3\">\n",
              "      <button class=\"colab-df-quickchart\" onclick=\"quickchart('df-a73c91c8-cc1d-4862-ab56-9755ef6850c3')\"\n",
              "                title=\"Suggest charts\"\n",
              "                style=\"display:none;\">\n",
              "\n",
              "<svg xmlns=\"http://www.w3.org/2000/svg\" height=\"24px\"viewBox=\"0 0 24 24\"\n",
              "     width=\"24px\">\n",
              "    <g>\n",
              "        <path d=\"M19 3H5c-1.1 0-2 .9-2 2v14c0 1.1.9 2 2 2h14c1.1 0 2-.9 2-2V5c0-1.1-.9-2-2-2zM9 17H7v-7h2v7zm4 0h-2V7h2v10zm4 0h-2v-4h2v4z\"/>\n",
              "    </g>\n",
              "</svg>\n",
              "      </button>\n",
              "\n",
              "<style>\n",
              "  .colab-df-quickchart {\n",
              "      --bg-color: #E8F0FE;\n",
              "      --fill-color: #1967D2;\n",
              "      --hover-bg-color: #E2EBFA;\n",
              "      --hover-fill-color: #174EA6;\n",
              "      --disabled-fill-color: #AAA;\n",
              "      --disabled-bg-color: #DDD;\n",
              "  }\n",
              "\n",
              "  [theme=dark] .colab-df-quickchart {\n",
              "      --bg-color: #3B4455;\n",
              "      --fill-color: #D2E3FC;\n",
              "      --hover-bg-color: #434B5C;\n",
              "      --hover-fill-color: #FFFFFF;\n",
              "      --disabled-bg-color: #3B4455;\n",
              "      --disabled-fill-color: #666;\n",
              "  }\n",
              "\n",
              "  .colab-df-quickchart {\n",
              "    background-color: var(--bg-color);\n",
              "    border: none;\n",
              "    border-radius: 50%;\n",
              "    cursor: pointer;\n",
              "    display: none;\n",
              "    fill: var(--fill-color);\n",
              "    height: 32px;\n",
              "    padding: 0;\n",
              "    width: 32px;\n",
              "  }\n",
              "\n",
              "  .colab-df-quickchart:hover {\n",
              "    background-color: var(--hover-bg-color);\n",
              "    box-shadow: 0 1px 2px rgba(60, 64, 67, 0.3), 0 1px 3px 1px rgba(60, 64, 67, 0.15);\n",
              "    fill: var(--button-hover-fill-color);\n",
              "  }\n",
              "\n",
              "  .colab-df-quickchart-complete:disabled,\n",
              "  .colab-df-quickchart-complete:disabled:hover {\n",
              "    background-color: var(--disabled-bg-color);\n",
              "    fill: var(--disabled-fill-color);\n",
              "    box-shadow: none;\n",
              "  }\n",
              "\n",
              "  .colab-df-spinner {\n",
              "    border: 2px solid var(--fill-color);\n",
              "    border-color: transparent;\n",
              "    border-bottom-color: var(--fill-color);\n",
              "    animation:\n",
              "      spin 1s steps(1) infinite;\n",
              "  }\n",
              "\n",
              "  @keyframes spin {\n",
              "    0% {\n",
              "      border-color: transparent;\n",
              "      border-bottom-color: var(--fill-color);\n",
              "      border-left-color: var(--fill-color);\n",
              "    }\n",
              "    20% {\n",
              "      border-color: transparent;\n",
              "      border-left-color: var(--fill-color);\n",
              "      border-top-color: var(--fill-color);\n",
              "    }\n",
              "    30% {\n",
              "      border-color: transparent;\n",
              "      border-left-color: var(--fill-color);\n",
              "      border-top-color: var(--fill-color);\n",
              "      border-right-color: var(--fill-color);\n",
              "    }\n",
              "    40% {\n",
              "      border-color: transparent;\n",
              "      border-right-color: var(--fill-color);\n",
              "      border-top-color: var(--fill-color);\n",
              "    }\n",
              "    60% {\n",
              "      border-color: transparent;\n",
              "      border-right-color: var(--fill-color);\n",
              "    }\n",
              "    80% {\n",
              "      border-color: transparent;\n",
              "      border-right-color: var(--fill-color);\n",
              "      border-bottom-color: var(--fill-color);\n",
              "    }\n",
              "    90% {\n",
              "      border-color: transparent;\n",
              "      border-bottom-color: var(--fill-color);\n",
              "    }\n",
              "  }\n",
              "</style>\n",
              "\n",
              "      <script>\n",
              "        async function quickchart(key) {\n",
              "          const quickchartButtonEl =\n",
              "            document.querySelector('#' + key + ' button');\n",
              "          quickchartButtonEl.disabled = true;  // To prevent multiple clicks.\n",
              "          quickchartButtonEl.classList.add('colab-df-spinner');\n",
              "          try {\n",
              "            const charts = await google.colab.kernel.invokeFunction(\n",
              "                'suggestCharts', [key], {});\n",
              "          } catch (error) {\n",
              "            console.error('Error during call to suggestCharts:', error);\n",
              "          }\n",
              "          quickchartButtonEl.classList.remove('colab-df-spinner');\n",
              "          quickchartButtonEl.classList.add('colab-df-quickchart-complete');\n",
              "        }\n",
              "        (() => {\n",
              "          let quickchartButtonEl =\n",
              "            document.querySelector('#df-a73c91c8-cc1d-4862-ab56-9755ef6850c3 button');\n",
              "          quickchartButtonEl.style.display =\n",
              "            google.colab.kernel.accessAllowed ? 'block' : 'none';\n",
              "        })();\n",
              "      </script>\n",
              "    </div>\n",
              "\n",
              "    </div>\n",
              "  </div>\n"
            ],
            "application/vnd.google.colaboratory.intrinsic+json": {
              "type": "dataframe",
              "summary": "{\n  \"name\": \"tips = pd\",\n  \"rows\": 5,\n  \"fields\": [\n    {\n      \"column\": \"total_bill\",\n      \"properties\": {\n        \"dtype\": \"number\",\n        \"std\": 5.824686257645128,\n        \"min\": 10.34,\n        \"max\": 24.59,\n        \"num_unique_values\": 5,\n        \"samples\": [\n          10.34,\n          24.59,\n          21.01\n        ],\n        \"semantic_type\": \"\",\n        \"description\": \"\"\n      }\n    },\n    {\n      \"column\": \"tip\",\n      \"properties\": {\n        \"dtype\": \"number\",\n        \"std\": 1.198361381220206,\n        \"min\": 1.01,\n        \"max\": 3.61,\n        \"num_unique_values\": 5,\n        \"samples\": [\n          1.66,\n          3.61,\n          3.5\n        ],\n        \"semantic_type\": \"\",\n        \"description\": \"\"\n      }\n    },\n    {\n      \"column\": \"sex\",\n      \"properties\": {\n        \"dtype\": \"category\",\n        \"num_unique_values\": 2,\n        \"samples\": [\n          \"Male\",\n          \"Female\"\n        ],\n        \"semantic_type\": \"\",\n        \"description\": \"\"\n      }\n    },\n    {\n      \"column\": \"smoker\",\n      \"properties\": {\n        \"dtype\": \"category\",\n        \"num_unique_values\": 1,\n        \"samples\": [\n          \"No\"\n        ],\n        \"semantic_type\": \"\",\n        \"description\": \"\"\n      }\n    },\n    {\n      \"column\": \"day\",\n      \"properties\": {\n        \"dtype\": \"category\",\n        \"num_unique_values\": 1,\n        \"samples\": [\n          \"Sun\"\n        ],\n        \"semantic_type\": \"\",\n        \"description\": \"\"\n      }\n    },\n    {\n      \"column\": \"time\",\n      \"properties\": {\n        \"dtype\": \"category\",\n        \"num_unique_values\": 1,\n        \"samples\": [\n          \"Dinner\"\n        ],\n        \"semantic_type\": \"\",\n        \"description\": \"\"\n      }\n    },\n    {\n      \"column\": \"size\",\n      \"properties\": {\n        \"dtype\": \"number\",\n        \"std\": 0,\n        \"min\": 2,\n        \"max\": 4,\n        \"num_unique_values\": 3,\n        \"samples\": [\n          2\n        ],\n        \"semantic_type\": \"\",\n        \"description\": \"\"\n      }\n    }\n  ]\n}"
            }
          },
          "metadata": {},
          "execution_count": 2
        }
      ],
      "execution_count": null,
      "id": "EyOdDI69XgP6"
    },
    {
      "cell_type": "code",
      "metadata": {
        "colab": {
          "base_uri": "https://localhost:8080/",
          "height": 770
        },
        "id": "W6N216HIXgP7",
        "outputId": "8c528990-96b1-48aa-e597-834c035495f0"
      },
      "source": [
        "print(\"Shape:\", tips.shape)\n",
        "print(\"\\nInfo:\"); print(tips.info())\n",
        "print(\"\\nDescribe:\"); display(tips.describe(include='all'))"
      ],
      "outputs": [
        {
          "output_type": "stream",
          "name": "stdout",
          "text": [
            "Shape: (244, 7)\n",
            "\n",
            "Info:\n",
            "<class 'pandas.core.frame.DataFrame'>\n",
            "RangeIndex: 244 entries, 0 to 243\n",
            "Data columns (total 7 columns):\n",
            " #   Column      Non-Null Count  Dtype  \n",
            "---  ------      --------------  -----  \n",
            " 0   total_bill  244 non-null    float64\n",
            " 1   tip         244 non-null    float64\n",
            " 2   sex         244 non-null    object \n",
            " 3   smoker      244 non-null    object \n",
            " 4   day         244 non-null    object \n",
            " 5   time        244 non-null    object \n",
            " 6   size        244 non-null    int64  \n",
            "dtypes: float64(2), int64(1), object(4)\n",
            "memory usage: 13.5+ KB\n",
            "None\n",
            "\n",
            "Describe:\n"
          ]
        },
        {
          "output_type": "display_data",
          "data": {
            "text/plain": [
              "        total_bill      tip   sex smoker  day    time    size\n",
              "count      244.000  244.000   244    244  244     244  244.00\n",
              "unique         NaN      NaN     2      2    4       2     NaN\n",
              "top            NaN      NaN  Male     No  Sat  Dinner     NaN\n",
              "freq           NaN      NaN   157    151   87     176     NaN\n",
              "mean        19.786    2.998   NaN    NaN  NaN     NaN    2.57\n",
              "...            ...      ...   ...    ...  ...     ...     ...\n",
              "min          3.070    1.000   NaN    NaN  NaN     NaN    1.00\n",
              "25%         13.348    2.000   NaN    NaN  NaN     NaN    2.00\n",
              "50%         17.795    2.900   NaN    NaN  NaN     NaN    2.00\n",
              "75%         24.127    3.562   NaN    NaN  NaN     NaN    3.00\n",
              "max         50.810   10.000   NaN    NaN  NaN     NaN    6.00\n",
              "\n",
              "[11 rows x 7 columns]"
            ],
            "text/html": [
              "\n",
              "  <div id=\"df-12cf66c8-f1cb-485a-b5ec-2473e700eff0\" class=\"colab-df-container\">\n",
              "    <div>\n",
              "<style scoped>\n",
              "    .dataframe tbody tr th:only-of-type {\n",
              "        vertical-align: middle;\n",
              "    }\n",
              "\n",
              "    .dataframe tbody tr th {\n",
              "        vertical-align: top;\n",
              "    }\n",
              "\n",
              "    .dataframe thead th {\n",
              "        text-align: right;\n",
              "    }\n",
              "</style>\n",
              "<table border=\"1\" class=\"dataframe\">\n",
              "  <thead>\n",
              "    <tr style=\"text-align: right;\">\n",
              "      <th></th>\n",
              "      <th>total_bill</th>\n",
              "      <th>tip</th>\n",
              "      <th>sex</th>\n",
              "      <th>smoker</th>\n",
              "      <th>day</th>\n",
              "      <th>time</th>\n",
              "      <th>size</th>\n",
              "    </tr>\n",
              "  </thead>\n",
              "  <tbody>\n",
              "    <tr>\n",
              "      <th>count</th>\n",
              "      <td>244.000</td>\n",
              "      <td>244.000</td>\n",
              "      <td>244</td>\n",
              "      <td>244</td>\n",
              "      <td>244</td>\n",
              "      <td>244</td>\n",
              "      <td>244.00</td>\n",
              "    </tr>\n",
              "    <tr>\n",
              "      <th>unique</th>\n",
              "      <td>NaN</td>\n",
              "      <td>NaN</td>\n",
              "      <td>2</td>\n",
              "      <td>2</td>\n",
              "      <td>4</td>\n",
              "      <td>2</td>\n",
              "      <td>NaN</td>\n",
              "    </tr>\n",
              "    <tr>\n",
              "      <th>top</th>\n",
              "      <td>NaN</td>\n",
              "      <td>NaN</td>\n",
              "      <td>Male</td>\n",
              "      <td>No</td>\n",
              "      <td>Sat</td>\n",
              "      <td>Dinner</td>\n",
              "      <td>NaN</td>\n",
              "    </tr>\n",
              "    <tr>\n",
              "      <th>freq</th>\n",
              "      <td>NaN</td>\n",
              "      <td>NaN</td>\n",
              "      <td>157</td>\n",
              "      <td>151</td>\n",
              "      <td>87</td>\n",
              "      <td>176</td>\n",
              "      <td>NaN</td>\n",
              "    </tr>\n",
              "    <tr>\n",
              "      <th>mean</th>\n",
              "      <td>19.786</td>\n",
              "      <td>2.998</td>\n",
              "      <td>NaN</td>\n",
              "      <td>NaN</td>\n",
              "      <td>NaN</td>\n",
              "      <td>NaN</td>\n",
              "      <td>2.57</td>\n",
              "    </tr>\n",
              "    <tr>\n",
              "      <th>...</th>\n",
              "      <td>...</td>\n",
              "      <td>...</td>\n",
              "      <td>...</td>\n",
              "      <td>...</td>\n",
              "      <td>...</td>\n",
              "      <td>...</td>\n",
              "      <td>...</td>\n",
              "    </tr>\n",
              "    <tr>\n",
              "      <th>min</th>\n",
              "      <td>3.070</td>\n",
              "      <td>1.000</td>\n",
              "      <td>NaN</td>\n",
              "      <td>NaN</td>\n",
              "      <td>NaN</td>\n",
              "      <td>NaN</td>\n",
              "      <td>1.00</td>\n",
              "    </tr>\n",
              "    <tr>\n",
              "      <th>25%</th>\n",
              "      <td>13.348</td>\n",
              "      <td>2.000</td>\n",
              "      <td>NaN</td>\n",
              "      <td>NaN</td>\n",
              "      <td>NaN</td>\n",
              "      <td>NaN</td>\n",
              "      <td>2.00</td>\n",
              "    </tr>\n",
              "    <tr>\n",
              "      <th>50%</th>\n",
              "      <td>17.795</td>\n",
              "      <td>2.900</td>\n",
              "      <td>NaN</td>\n",
              "      <td>NaN</td>\n",
              "      <td>NaN</td>\n",
              "      <td>NaN</td>\n",
              "      <td>2.00</td>\n",
              "    </tr>\n",
              "    <tr>\n",
              "      <th>75%</th>\n",
              "      <td>24.127</td>\n",
              "      <td>3.562</td>\n",
              "      <td>NaN</td>\n",
              "      <td>NaN</td>\n",
              "      <td>NaN</td>\n",
              "      <td>NaN</td>\n",
              "      <td>3.00</td>\n",
              "    </tr>\n",
              "    <tr>\n",
              "      <th>max</th>\n",
              "      <td>50.810</td>\n",
              "      <td>10.000</td>\n",
              "      <td>NaN</td>\n",
              "      <td>NaN</td>\n",
              "      <td>NaN</td>\n",
              "      <td>NaN</td>\n",
              "      <td>6.00</td>\n",
              "    </tr>\n",
              "  </tbody>\n",
              "</table>\n",
              "<p>11 rows × 7 columns</p>\n",
              "</div>\n",
              "    <div class=\"colab-df-buttons\">\n",
              "\n",
              "  <div class=\"colab-df-container\">\n",
              "    <button class=\"colab-df-convert\" onclick=\"convertToInteractive('df-12cf66c8-f1cb-485a-b5ec-2473e700eff0')\"\n",
              "            title=\"Convert this dataframe to an interactive table.\"\n",
              "            style=\"display:none;\">\n",
              "\n",
              "  <svg xmlns=\"http://www.w3.org/2000/svg\" height=\"24px\" viewBox=\"0 -960 960 960\">\n",
              "    <path d=\"M120-120v-720h720v720H120Zm60-500h600v-160H180v160Zm220 220h160v-160H400v160Zm0 220h160v-160H400v160ZM180-400h160v-160H180v160Zm440 0h160v-160H620v160ZM180-180h160v-160H180v160Zm440 0h160v-160H620v160Z\"/>\n",
              "  </svg>\n",
              "    </button>\n",
              "\n",
              "  <style>\n",
              "    .colab-df-container {\n",
              "      display:flex;\n",
              "      gap: 12px;\n",
              "    }\n",
              "\n",
              "    .colab-df-convert {\n",
              "      background-color: #E8F0FE;\n",
              "      border: none;\n",
              "      border-radius: 50%;\n",
              "      cursor: pointer;\n",
              "      display: none;\n",
              "      fill: #1967D2;\n",
              "      height: 32px;\n",
              "      padding: 0 0 0 0;\n",
              "      width: 32px;\n",
              "    }\n",
              "\n",
              "    .colab-df-convert:hover {\n",
              "      background-color: #E2EBFA;\n",
              "      box-shadow: 0px 1px 2px rgba(60, 64, 67, 0.3), 0px 1px 3px 1px rgba(60, 64, 67, 0.15);\n",
              "      fill: #174EA6;\n",
              "    }\n",
              "\n",
              "    .colab-df-buttons div {\n",
              "      margin-bottom: 4px;\n",
              "    }\n",
              "\n",
              "    [theme=dark] .colab-df-convert {\n",
              "      background-color: #3B4455;\n",
              "      fill: #D2E3FC;\n",
              "    }\n",
              "\n",
              "    [theme=dark] .colab-df-convert:hover {\n",
              "      background-color: #434B5C;\n",
              "      box-shadow: 0px 1px 3px 1px rgba(0, 0, 0, 0.15);\n",
              "      filter: drop-shadow(0px 1px 2px rgba(0, 0, 0, 0.3));\n",
              "      fill: #FFFFFF;\n",
              "    }\n",
              "  </style>\n",
              "\n",
              "    <script>\n",
              "      const buttonEl =\n",
              "        document.querySelector('#df-12cf66c8-f1cb-485a-b5ec-2473e700eff0 button.colab-df-convert');\n",
              "      buttonEl.style.display =\n",
              "        google.colab.kernel.accessAllowed ? 'block' : 'none';\n",
              "\n",
              "      async function convertToInteractive(key) {\n",
              "        const element = document.querySelector('#df-12cf66c8-f1cb-485a-b5ec-2473e700eff0');\n",
              "        const dataTable =\n",
              "          await google.colab.kernel.invokeFunction('convertToInteractive',\n",
              "                                                    [key], {});\n",
              "        if (!dataTable) return;\n",
              "\n",
              "        const docLinkHtml = 'Like what you see? Visit the ' +\n",
              "          '<a target=\"_blank\" href=https://colab.research.google.com/notebooks/data_table.ipynb>data table notebook</a>'\n",
              "          + ' to learn more about interactive tables.';\n",
              "        element.innerHTML = '';\n",
              "        dataTable['output_type'] = 'display_data';\n",
              "        await google.colab.output.renderOutput(dataTable, element);\n",
              "        const docLink = document.createElement('div');\n",
              "        docLink.innerHTML = docLinkHtml;\n",
              "        element.appendChild(docLink);\n",
              "      }\n",
              "    </script>\n",
              "  </div>\n",
              "\n",
              "\n",
              "    <div id=\"df-459825bd-76f8-42a8-bb53-fce85d09f511\">\n",
              "      <button class=\"colab-df-quickchart\" onclick=\"quickchart('df-459825bd-76f8-42a8-bb53-fce85d09f511')\"\n",
              "                title=\"Suggest charts\"\n",
              "                style=\"display:none;\">\n",
              "\n",
              "<svg xmlns=\"http://www.w3.org/2000/svg\" height=\"24px\"viewBox=\"0 0 24 24\"\n",
              "     width=\"24px\">\n",
              "    <g>\n",
              "        <path d=\"M19 3H5c-1.1 0-2 .9-2 2v14c0 1.1.9 2 2 2h14c1.1 0 2-.9 2-2V5c0-1.1-.9-2-2-2zM9 17H7v-7h2v7zm4 0h-2V7h2v10zm4 0h-2v-4h2v4z\"/>\n",
              "    </g>\n",
              "</svg>\n",
              "      </button>\n",
              "\n",
              "<style>\n",
              "  .colab-df-quickchart {\n",
              "      --bg-color: #E8F0FE;\n",
              "      --fill-color: #1967D2;\n",
              "      --hover-bg-color: #E2EBFA;\n",
              "      --hover-fill-color: #174EA6;\n",
              "      --disabled-fill-color: #AAA;\n",
              "      --disabled-bg-color: #DDD;\n",
              "  }\n",
              "\n",
              "  [theme=dark] .colab-df-quickchart {\n",
              "      --bg-color: #3B4455;\n",
              "      --fill-color: #D2E3FC;\n",
              "      --hover-bg-color: #434B5C;\n",
              "      --hover-fill-color: #FFFFFF;\n",
              "      --disabled-bg-color: #3B4455;\n",
              "      --disabled-fill-color: #666;\n",
              "  }\n",
              "\n",
              "  .colab-df-quickchart {\n",
              "    background-color: var(--bg-color);\n",
              "    border: none;\n",
              "    border-radius: 50%;\n",
              "    cursor: pointer;\n",
              "    display: none;\n",
              "    fill: var(--fill-color);\n",
              "    height: 32px;\n",
              "    padding: 0;\n",
              "    width: 32px;\n",
              "  }\n",
              "\n",
              "  .colab-df-quickchart:hover {\n",
              "    background-color: var(--hover-bg-color);\n",
              "    box-shadow: 0 1px 2px rgba(60, 64, 67, 0.3), 0 1px 3px 1px rgba(60, 64, 67, 0.15);\n",
              "    fill: var(--button-hover-fill-color);\n",
              "  }\n",
              "\n",
              "  .colab-df-quickchart-complete:disabled,\n",
              "  .colab-df-quickchart-complete:disabled:hover {\n",
              "    background-color: var(--disabled-bg-color);\n",
              "    fill: var(--disabled-fill-color);\n",
              "    box-shadow: none;\n",
              "  }\n",
              "\n",
              "  .colab-df-spinner {\n",
              "    border: 2px solid var(--fill-color);\n",
              "    border-color: transparent;\n",
              "    border-bottom-color: var(--fill-color);\n",
              "    animation:\n",
              "      spin 1s steps(1) infinite;\n",
              "  }\n",
              "\n",
              "  @keyframes spin {\n",
              "    0% {\n",
              "      border-color: transparent;\n",
              "      border-bottom-color: var(--fill-color);\n",
              "      border-left-color: var(--fill-color);\n",
              "    }\n",
              "    20% {\n",
              "      border-color: transparent;\n",
              "      border-left-color: var(--fill-color);\n",
              "      border-top-color: var(--fill-color);\n",
              "    }\n",
              "    30% {\n",
              "      border-color: transparent;\n",
              "      border-left-color: var(--fill-color);\n",
              "      border-top-color: var(--fill-color);\n",
              "      border-right-color: var(--fill-color);\n",
              "    }\n",
              "    40% {\n",
              "      border-color: transparent;\n",
              "      border-right-color: var(--fill-color);\n",
              "      border-top-color: var(--fill-color);\n",
              "    }\n",
              "    60% {\n",
              "      border-color: transparent;\n",
              "      border-right-color: var(--fill-color);\n",
              "    }\n",
              "    80% {\n",
              "      border-color: transparent;\n",
              "      border-right-color: var(--fill-color);\n",
              "      border-bottom-color: var(--fill-color);\n",
              "    }\n",
              "    90% {\n",
              "      border-color: transparent;\n",
              "      border-bottom-color: var(--fill-color);\n",
              "    }\n",
              "  }\n",
              "</style>\n",
              "\n",
              "      <script>\n",
              "        async function quickchart(key) {\n",
              "          const quickchartButtonEl =\n",
              "            document.querySelector('#' + key + ' button');\n",
              "          quickchartButtonEl.disabled = true;  // To prevent multiple clicks.\n",
              "          quickchartButtonEl.classList.add('colab-df-spinner');\n",
              "          try {\n",
              "            const charts = await google.colab.kernel.invokeFunction(\n",
              "                'suggestCharts', [key], {});\n",
              "          } catch (error) {\n",
              "            console.error('Error during call to suggestCharts:', error);\n",
              "          }\n",
              "          quickchartButtonEl.classList.remove('colab-df-spinner');\n",
              "          quickchartButtonEl.classList.add('colab-df-quickchart-complete');\n",
              "        }\n",
              "        (() => {\n",
              "          let quickchartButtonEl =\n",
              "            document.querySelector('#df-459825bd-76f8-42a8-bb53-fce85d09f511 button');\n",
              "          quickchartButtonEl.style.display =\n",
              "            google.colab.kernel.accessAllowed ? 'block' : 'none';\n",
              "        })();\n",
              "      </script>\n",
              "    </div>\n",
              "\n",
              "    </div>\n",
              "  </div>\n"
            ],
            "application/vnd.google.colaboratory.intrinsic+json": {
              "type": "dataframe",
              "summary": "{\n  \"name\": \"print(\\\"\\\\nDescribe:\\\"); display(tips\",\n  \"rows\": 11,\n  \"fields\": [\n    {\n      \"column\": \"total_bill\",\n      \"properties\": {\n        \"dtype\": \"number\",\n        \"std\": 80.57800601480773,\n        \"min\": 3.07,\n        \"max\": 244.0,\n        \"num_unique_values\": 8,\n        \"samples\": [\n          19.78594262295082,\n          17.795,\n          244.0\n        ],\n        \"semantic_type\": \"\",\n        \"description\": \"\"\n      }\n    },\n    {\n      \"column\": \"tip\",\n      \"properties\": {\n        \"dtype\": \"number\",\n        \"std\": 85.10953159599222,\n        \"min\": 1.0,\n        \"max\": 244.0,\n        \"num_unique_values\": 8,\n        \"samples\": [\n          2.99827868852459,\n          2.9,\n          244.0\n        ],\n        \"semantic_type\": \"\",\n        \"description\": \"\"\n      }\n    },\n    {\n      \"column\": \"sex\",\n      \"properties\": {\n        \"dtype\": \"category\",\n        \"num_unique_values\": 4,\n        \"samples\": [\n          2,\n          \"157\",\n          \"244\"\n        ],\n        \"semantic_type\": \"\",\n        \"description\": \"\"\n      }\n    },\n    {\n      \"column\": \"smoker\",\n      \"properties\": {\n        \"dtype\": \"category\",\n        \"num_unique_values\": 4,\n        \"samples\": [\n          2,\n          \"151\",\n          \"244\"\n        ],\n        \"semantic_type\": \"\",\n        \"description\": \"\"\n      }\n    },\n    {\n      \"column\": \"day\",\n      \"properties\": {\n        \"dtype\": \"category\",\n        \"num_unique_values\": 4,\n        \"samples\": [\n          4,\n          \"87\",\n          \"244\"\n        ],\n        \"semantic_type\": \"\",\n        \"description\": \"\"\n      }\n    },\n    {\n      \"column\": \"time\",\n      \"properties\": {\n        \"dtype\": \"category\",\n        \"num_unique_values\": 4,\n        \"samples\": [\n          2,\n          \"176\",\n          \"244\"\n        ],\n        \"semantic_type\": \"\",\n        \"description\": \"\"\n      }\n    },\n    {\n      \"column\": \"size\",\n      \"properties\": {\n        \"dtype\": \"number\",\n        \"std\": 85.39686221774684,\n        \"min\": 0.9510998047322332,\n        \"max\": 244.0,\n        \"num_unique_values\": 7,\n        \"samples\": [\n          244.0,\n          2.569672131147541,\n          3.0\n        ],\n        \"semantic_type\": \"\",\n        \"description\": \"\"\n      }\n    }\n  ]\n}"
            }
          },
          "metadata": {}
        }
      ],
      "execution_count": null,
      "id": "W6N216HIXgP7"
    },
    {
      "cell_type": "markdown",
      "metadata": {
        "id": "znDZWhC5XgP7"
      },
      "source": [
        "**Columns**: `total_bill` (float), `tip` (float), `sex` (str), `smoker` (str), `day` (str), `time` (str), `size` (int)"
      ],
      "id": "znDZWhC5XgP7"
    },
    {
      "cell_type": "markdown",
      "metadata": {
        "id": "3vHl51LCXgP7"
      },
      "source": [
        "### ✅ Exercise 0\n",
        "1) Unique `day`, `time`. 2) Count duplicates. 3) Averages of `total_bill`, `tip`."
      ],
      "id": "3vHl51LCXgP7"
    },
    {
      "cell_type": "markdown",
      "metadata": {
        "id": "22lwjQWNXgP7"
      },
      "source": [
        "**Hints:**\n",
        "- Concept: inspect levels and duplicates.\n",
        "- API: `unique`, `duplicated`, `mean`.\n"
      ],
      "id": "22lwjQWNXgP7"
    },
    {
      "cell_type": "code",
      "metadata": {
        "id": "dGM7P0BIXgP8",
        "colab": {
          "base_uri": "https://localhost:8080/"
        },
        "outputId": "77c4e34b-25de-42fc-991e-f9116d63a911"
      },
      "source": [
        "# YOUR WORK: Exercise 0\n",
        "unique_days = tips['day'].unique()\n",
        "unique_times = tips['time'].unique()\n",
        "print(\"Unique days:\", unique_days)\n",
        "print(\"Unique times:\", unique_times)\n",
        "duplicate_count = tips.duplicated().sum()\n",
        "print(\"Duplicate count:\", duplicate_count)\n",
        "mean_total_bill = tips['total_bill'].mean()\n",
        "mean_tip = tips['tip'].mean()\n",
        "print(\"Mean total_bill:\", mean_total_bill)\n",
        "print(\"Mean tip:\", mean_tip)"
      ],
      "outputs": [
        {
          "output_type": "stream",
          "name": "stdout",
          "text": [
            "Unique days: ['Sun' 'Sat' 'Thur' 'Fri']\n",
            "Unique times: ['Dinner' 'Lunch']\n",
            "Duplicate count: 1\n",
            "Mean total_bill: 19.78594262295082\n",
            "Mean tip: 2.99827868852459\n"
          ]
        }
      ],
      "execution_count": null,
      "id": "dGM7P0BIXgP8"
    },
    {
      "cell_type": "markdown",
      "metadata": {
        "id": "dht98yM3XgP9"
      },
      "source": [
        "### ✍️ Analysis (Setup & Load) — 3–5 sentences\n",
        "- What columns and dtypes did you observe? Any surprises?\n",
        "- Is the dataset balanced across `day` and `time`? Cite one count.\n",
        "- One risk if you skip an initial audit here.\n",
        "\n",
        "### 🔎 Quick checks\n",
        "- Report the shape (rows, cols).\n",
        "- Name 1 non-numeric dtype and why it matters.\n",
        "\n",
        "### ➕ Extension (pick one)\n",
        "- Tweak display options and note the effect.\n",
        "- Compute `value_counts()` on `day` or `time`.\n",
        "\n",
        "**Rubric (10 pts):** Correctness 3 • Evidence 2 • Clarity 2 • Reproducibility 2 • Exploration 1"
      ],
      "id": "dht98yM3XgP9"
    },
    {
      "cell_type": "markdown",
      "metadata": {
        "id": "McACcDIeXgP9"
      },
      "source": [
        "## 1) Import & Core Manipulation (20m)"
      ],
      "id": "McACcDIeXgP9"
    },
    {
      "cell_type": "code",
      "metadata": {
        "id": "lnOgzZNHXgP9"
      },
      "source": [
        "tips[['total_bill','tip']].head()"
      ],
      "outputs": [],
      "execution_count": null,
      "id": "lnOgzZNHXgP9"
    },
    {
      "cell_type": "code",
      "metadata": {
        "id": "kR-liasuXgP9"
      },
      "source": [
        "tips.iloc[0:5]"
      ],
      "outputs": [],
      "execution_count": null,
      "id": "kR-liasuXgP9"
    },
    {
      "cell_type": "code",
      "metadata": {
        "id": "ZpcZaateXgP-"
      },
      "source": [
        "tips.loc[tips['day']=='Sun', ['total_bill','tip','size']].head()"
      ],
      "outputs": [],
      "execution_count": null,
      "id": "ZpcZaateXgP-"
    },
    {
      "cell_type": "code",
      "metadata": {
        "id": "h7f_obkzXgP-"
      },
      "source": [
        "tips.query(\"time=='Lunch' and smoker=='Yes'\").head()"
      ],
      "outputs": [],
      "execution_count": null,
      "id": "h7f_obkzXgP-"
    },
    {
      "cell_type": "code",
      "metadata": {
        "id": "M73EzBkAXgP-"
      },
      "source": [
        "tips.sort_values(['total_bill','tip'], ascending=[False, True]).head()"
      ],
      "outputs": [],
      "execution_count": null,
      "id": "M73EzBkAXgP-"
    },
    {
      "cell_type": "code",
      "metadata": {
        "id": "9j6og77JXgP-"
      },
      "source": [
        "tips = tips.assign(tip_pct = tips['tip']/tips['total_bill'],\n",
        "                         tip_per_person = tips['tip']/tips['size']); tips.head()"
      ],
      "outputs": [],
      "execution_count": null,
      "id": "9j6og77JXgP-"
    },
    {
      "cell_type": "markdown",
      "metadata": {
        "id": "6YUjDyihXgP-"
      },
      "source": [
        "### ✅ Exercise 1\n",
        "Filter `day='Sat' & size≥3`, add `bill_per_person`, sort desc, show top 5."
      ],
      "id": "6YUjDyihXgP-"
    },
    {
      "cell_type": "markdown",
      "metadata": {
        "id": "Tt-jVCiLXgP_"
      },
      "source": [
        "**Hints:**\n",
        "- Concept: filter → compute → sort.\n",
        "- API: boolean mask / `.query`, `.assign`, `.sort_values`.\n"
      ],
      "id": "Tt-jVCiLXgP_"
    },
    {
      "cell_type": "code",
      "metadata": {
        "id": "L9x5A-1mXgP_",
        "colab": {
          "base_uri": "https://localhost:8080/"
        },
        "outputId": "07502fba-c3cf-4795-90b3-3477c9dd7d49"
      },
      "source": [
        "# YOUR WORK: Exercise 1\n",
        "bill_per_person_analysis = tips.query(\"day == 'Sat' & size >= 3\") \\\n",
        "                               .assign(bill_per_person = lambda x: x['total_bill'] / x['size']) \\\n",
        "                               .sort_values(by='bill_per_person', ascending=False) \\\n",
        "                               .head(5)\n",
        "print(bill_per_person_analysis)"
      ],
      "outputs": [
        {
          "output_type": "stream",
          "name": "stdout",
          "text": [
            "     total_bill    tip     sex smoker  day    time  size  bill_per_person\n",
            "170       50.81  10.00    Male    Yes  Sat  Dinner     3           16.937\n",
            "102       44.30   2.50  Female    Yes  Sat  Dinner     3           14.767\n",
            "212       48.33   9.00    Male     No  Sat  Dinner     4           12.082\n",
            "59        48.27   6.73    Male     No  Sat  Dinner     4           12.068\n",
            "238       35.83   4.67  Female     No  Sat  Dinner     3           11.943\n"
          ]
        }
      ],
      "execution_count": null,
      "id": "L9x5A-1mXgP_"
    },
    {
      "cell_type": "markdown",
      "metadata": {
        "id": "EG3AWv_1XgP_"
      },
      "source": [
        "### ✍️ Analysis (Import & Manipulation) — 3–5 sentences\n",
        "- Which 2 columns seem most associated with `tip`? Support with a stat.\n",
        "- Explain one filter you wrote in plain English.\n",
        "- One thing you might compute next.\n",
        "\n",
        "### 🔎 Quick checks\n",
        "- Show first 3 rows of your filtered frame.\n",
        "- Name one new column and its formula.\n",
        "\n",
        "### ➕ Extension (pick one)\n",
        "- Rewrite a filter via `.query` vs mask; compare readability.\n",
        "- Change a sort order and predict effect.\n",
        "\n",
        "**Rubric (10 pts):** Correctness 3 • Evidence 2 • Clarity 2 • Reproducibility 2 • Exploration 1"
      ],
      "id": "EG3AWv_1XgP_"
    },
    {
      "cell_type": "markdown",
      "metadata": {
        "id": "L2J4q0l-XgP_"
      },
      "source": [
        "## 2) Cleaning & Preprocessing (15m)"
      ],
      "id": "L2J4q0l-XgP_"
    },
    {
      "cell_type": "code",
      "metadata": {
        "id": "hS_vsH-FXgP_"
      },
      "source": [
        "tips['sex']=tips['sex'].astype('category')\n",
        "tips['smoker']=tips['smoker'].astype('category')\n",
        "tips['day']=tips['day'].astype('category')\n",
        "tips['time']=tips['time'].astype('category'); tips.dtypes"
      ],
      "outputs": [],
      "execution_count": null,
      "id": "hS_vsH-FXgP_"
    },
    {
      "cell_type": "code",
      "metadata": {
        "id": "wzAQwW2lXgP_"
      },
      "source": [
        "tips['server_name'] = [' Alice ', 'Bob', 'ALICE', 'bob', ' Alice ', 'Bob'] * (len(tips)//6) + ['Alice']*(len(tips)%6)\n",
        "tips['server_name'] = tips['server_name'].str.strip().str.title()\n",
        "tips['server_name'].head()"
      ],
      "outputs": [],
      "execution_count": null,
      "id": "wzAQwW2lXgP_"
    },
    {
      "cell_type": "code",
      "metadata": {
        "id": "dNJfm1ULXgP_"
      },
      "source": [
        "demo = tips.copy()\n",
        "demo = pd.concat([demo, demo.iloc[0:2]], ignore_index=True)\n",
        "print(\"Before:\", demo.shape, \"After:\", demo.drop_duplicates().shape)"
      ],
      "outputs": [],
      "execution_count": null,
      "id": "dNJfm1ULXgP_"
    },
    {
      "cell_type": "markdown",
      "metadata": {
        "id": "BhenKddVXgQA"
      },
      "source": [
        "### ✅ Exercise 2\n",
        "1) Ensure `size` is int64. 2) Build `tips_clean` with selected cols. 3) Verify no duplicates."
      ],
      "id": "BhenKddVXgQA"
    },
    {
      "cell_type": "markdown",
      "metadata": {
        "id": "viD_bDc0XgQA"
      },
      "source": [
        "**Hints:**\n",
        "- Concept: enforce types, subset columns, dedup.\n",
        "- API: `.astype`, column lists, `.drop_duplicates`.\n"
      ],
      "id": "viD_bDc0XgQA"
    },
    {
      "cell_type": "code",
      "metadata": {
        "id": "vrjrvo6WXgQA",
        "colab": {
          "base_uri": "https://localhost:8080/"
        },
        "outputId": "00bf36fa-c177-4588-89a5-9387832de8b8"
      },
      "source": [
        "# YOUR WORK: Exercise 2\n",
        "tips['size'] = tips['size'].astype('int64')\n",
        "tips_clean = tips[['total_bill', 'tip', 'sex', 'smoker', 'day', 'time', 'size']]\n",
        "tips_clean.dtypes\n",
        "print(\"Before:\", tips_clean.shape, \"After:\", tips_clean.drop_duplicates().shape)"
      ],
      "outputs": [
        {
          "output_type": "stream",
          "name": "stdout",
          "text": [
            "Before: (244, 7) After: (243, 7)\n"
          ]
        }
      ],
      "execution_count": null,
      "id": "vrjrvo6WXgQA"
    },
    {
      "cell_type": "markdown",
      "metadata": {
        "id": "VDqjjuiMXgQA"
      },
      "source": [
        "### ✍️ Analysis (Cleaning & Preprocessing) — 3–5 sentences\n",
        "- Which dtype changes did you apply and why?\n",
        "- Did you handle duplicates? How many?\n",
        "- One naming or string normalization you made.\n",
        "\n",
        "### 🔎 Quick checks\n",
        "- Print memory usage pre/post for 1 cast.\n",
        "- Confirm duplicates=0 in `tips_clean`.\n",
        "\n",
        "### ➕ Extension (pick one)\n",
        "- Cast another column and report memory delta.\n",
        "- Show `.value_counts()` pre/post string cleanup.\n",
        "\n",
        "**Rubric (10 pts):** Correctness 3 • Evidence 2 • Clarity 2 • Reproducibility 2 • Exploration 1"
      ],
      "id": "VDqjjuiMXgQA"
    },
    {
      "cell_type": "markdown",
      "metadata": {
        "id": "JGSnP-xRXgQA"
      },
      "source": [
        "## 3) Handling Missing Data (15m)"
      ],
      "id": "JGSnP-xRXgQA"
    },
    {
      "cell_type": "code",
      "metadata": {
        "id": "u3rVmCJxXgQB"
      },
      "source": [
        "rng = np.random.default_rng(42)\n",
        "tips_na = tips_clean.copy()\n",
        "mask = rng.choice([True, False], size=len(tips_na), p=[0.1, 0.9])\n",
        "tips_na.loc[mask, 'tip'] = np.nan; tips_na.loc[mask, 'size'] = np.nan\n",
        "tips_na.isna().sum()"
      ],
      "outputs": [],
      "execution_count": null,
      "id": "u3rVmCJxXgQB"
    },
    {
      "cell_type": "code",
      "metadata": {
        "id": "9ZQ1i4xfXgQB"
      },
      "source": [
        "dropped = tips_na.dropna(); dropped.shape"
      ],
      "outputs": [],
      "execution_count": null,
      "id": "9ZQ1i4xfXgQB"
    },
    {
      "cell_type": "code",
      "metadata": {
        "id": "j1AISIk5XgQB"
      },
      "source": [
        "filled = tips_na.fillna({'tip': tips_na['tip'].median(), 'size': tips_na['size'].median()}); filled.isna().sum()"
      ],
      "outputs": [],
      "execution_count": null,
      "id": "j1AISIk5XgQB"
    },
    {
      "cell_type": "code",
      "metadata": {
        "id": "g0EeU2mFXgQC"
      },
      "source": [
        "tips_group_fill = tips_na.copy()\n",
        "tips_group_fill['tip'] = tips_group_fill.groupby(['day','time'])['tip'].transform(lambda s: s.fillna(s.median()))\n",
        "tips_group_fill.isna().sum()"
      ],
      "outputs": [],
      "execution_count": null,
      "id": "g0EeU2mFXgQC"
    },
    {
      "cell_type": "code",
      "metadata": {
        "id": "jbGK-ANpXgQC"
      },
      "source": [
        "tips_interp = tips_na.sort_values('total_bill').interpolate(numeric_only=True); tips_interp.isna().sum()"
      ],
      "outputs": [],
      "execution_count": null,
      "id": "jbGK-ANpXgQC"
    },
    {
      "cell_type": "markdown",
      "metadata": {
        "id": "8p5Rv1W_XgQC"
      },
      "source": [
        "### ✅ Exercise 3\n",
        "Drop rows where both `tip` & `size` are NaN; fill `size` by rounded mean per `day`."
      ],
      "id": "8p5Rv1W_XgQC"
    },
    {
      "cell_type": "markdown",
      "metadata": {
        "id": "t0F6cgjOXgQC"
      },
      "source": [
        "**Hints:**\n",
        "- Concept: selective drop, grouped fill.\n",
        "- API: boolean masks, `groupby().transform`, `.fillna`.\n"
      ],
      "id": "t0F6cgjOXgQC"
    },
    {
      "cell_type": "code",
      "metadata": {
        "id": "jO-uylhpXgQC",
        "colab": {
          "base_uri": "https://localhost:8080/"
        },
        "outputId": "5165bbd5-5e3a-4d65-bf14-51fd0bd0ae30"
      },
      "source": [
        "# YOUR WORK: Exercise 3\n",
        "tips.dropna(subset=['tip', 'size'], how='all', inplace=True)\n",
        "tips['size'] = tips['size'].fillna(tips.groupby('day')['size'].transform('mean').round())\n",
        "tips.isna().sum()\n",
        "print(tips)"
      ],
      "outputs": [
        {
          "output_type": "stream",
          "name": "stdout",
          "text": [
            "     total_bill   tip     sex smoker   day    time  size\n",
            "0         16.99  1.01  Female     No   Sun  Dinner     2\n",
            "1         10.34  1.66    Male     No   Sun  Dinner     3\n",
            "2         21.01  3.50    Male     No   Sun  Dinner     3\n",
            "3         23.68  3.31    Male     No   Sun  Dinner     2\n",
            "4         24.59  3.61  Female     No   Sun  Dinner     4\n",
            "..          ...   ...     ...    ...   ...     ...   ...\n",
            "239       29.03  5.92    Male     No   Sat  Dinner     3\n",
            "240       27.18  2.00  Female    Yes   Sat  Dinner     2\n",
            "241       22.67  2.00    Male    Yes   Sat  Dinner     2\n",
            "242       17.82  1.75    Male     No   Sat  Dinner     2\n",
            "243       18.78  3.00  Female     No  Thur  Dinner     2\n",
            "\n",
            "[244 rows x 7 columns]\n"
          ]
        }
      ],
      "execution_count": null,
      "id": "jO-uylhpXgQC"
    },
    {
      "cell_type": "markdown",
      "metadata": {
        "id": "y_5AccbNXgQU"
      },
      "source": [
        "### ✍️ Analysis (Missing Data) — 3–5 sentences\n",
        "- Compare `dropna` vs groupwise fill—who shifts distribution more?\n",
        "- What assumption does your fill strategy make?\n",
        "- When would interpolation be inappropriate here?\n",
        "\n",
        "### 🔎 Quick checks\n",
        "- Report NaN counts before vs after.\n",
        "- Cite one numeric change for `tip`.\n",
        "\n",
        "### ➕ Extension (pick one)\n",
        "- Try a different group key for fill and compare MAE.\n",
        "- Plot hist pre/post fill for `tip`.\n",
        "\n",
        "**Rubric (10 pts):** Correctness 3 • Evidence 2 • Clarity 2 • Reproducibility 2 • Exploration 1"
      ],
      "id": "y_5AccbNXgQU"
    },
    {
      "cell_type": "markdown",
      "metadata": {
        "id": "oEl65RYrXgQV"
      },
      "source": [
        "## 4) Analysis & Visualization (20m)"
      ],
      "id": "oEl65RYrXgQV"
    },
    {
      "cell_type": "code",
      "metadata": {
        "id": "jRouiaNmXgQV"
      },
      "source": [
        "print(\"Overall tip %:\", (tips['tip'].sum()/tips['total_bill'].sum()).round(3))"
      ],
      "outputs": [],
      "execution_count": null,
      "id": "jRouiaNmXgQV"
    },
    {
      "cell_type": "code",
      "metadata": {
        "id": "lCv6JlP7XgQV"
      },
      "source": [
        "plt.figure(); plt.hist(tips['total_bill'].dropna(), bins=20)\n",
        "plt.title('Histogram: total_bill'); plt.xlabel('total_bill'); plt.ylabel('Frequency'); plt.show()"
      ],
      "outputs": [],
      "execution_count": null,
      "id": "lCv6JlP7XgQV"
    },
    {
      "cell_type": "code",
      "metadata": {
        "id": "nf92PE2RXgQV"
      },
      "source": [
        "plt.figure()\n",
        "data = [tips.loc[tips['day']==d, 'tip'].dropna().values for d in tips['day'].cat.categories]\n",
        "plt.boxplot(data, labels=list(tips['day'].cat.categories))\n",
        "plt.title('Boxplot: tip by day'); plt.xlabel('day'); plt.ylabel('tip'); plt.show()"
      ],
      "outputs": [],
      "execution_count": null,
      "id": "nf92PE2RXgQV"
    },
    {
      "cell_type": "code",
      "metadata": {
        "id": "s_k59FuiXgQV"
      },
      "source": [
        "plt.figure(); plt.scatter(tips['total_bill'], tips['tip'], s=tips['size']*10, alpha=0.6)\n",
        "plt.title('Scatter: total_bill vs tip'); plt.xlabel('total_bill'); plt.ylabel('tip'); plt.show()"
      ],
      "outputs": [],
      "execution_count": null,
      "id": "s_k59FuiXgQV"
    },
    {
      "cell_type": "code",
      "metadata": {
        "id": "hhJnbdGJXgQV"
      },
      "source": [
        "avg_tip_pct = tips.groupby('day')['tip_pct'].mean()\n",
        "plt.figure(); plt.bar(avg_tip_pct.index.astype(str), avg_tip_pct.values)\n",
        "plt.title('Average tip_pct by day'); plt.xlabel('day'); plt.ylabel('mean tip_pct'); plt.show()"
      ],
      "outputs": [],
      "execution_count": null,
      "id": "hhJnbdGJXgQV"
    },
    {
      "cell_type": "markdown",
      "metadata": {
        "id": "qXzY9GIBXgQV"
      },
      "source": [
        "### ✅ Exercise 4\n",
        "1) Scatter: `total_bill` vs `tip_pct`. 2) Bar: median `total_bill` by `time`."
      ],
      "id": "qXzY9GIBXgQV"
    },
    {
      "cell_type": "markdown",
      "metadata": {
        "id": "IEHx9za0XgQV"
      },
      "source": [
        "**Hints:**\n",
        "- Concept: relate vars via scatter; summarize via bar.\n",
        "- API: `plt.scatter`, `groupby().median` + `plt.bar`.\n"
      ],
      "id": "IEHx9za0XgQV"
    },
    {
      "cell_type": "code",
      "metadata": {
        "id": "CIox9-sCXgQV",
        "colab": {
          "base_uri": "https://localhost:8080/",
          "height": 843
        },
        "outputId": "f2f69d02-0118-48d0-876e-3f1efdc65d1d"
      },
      "source": [
        "# YOUR WORK: Exercise 4\n",
        "tips['tip_pct'] = tips['tip'] / tips['total_bill']\n",
        "plt.figure(); plt.scatter(tips['total_bill'], tips['tip_pct'])\n",
        "median_bill_by_time = tips.groupby('time')['total_bill'].median()\n",
        "plt.figure(); plt.bar(median_bill_by_time.index.astype(str), median_bill_by_time.values)\n",
        "plt.show()"
      ],
      "outputs": [
        {
          "output_type": "display_data",
          "data": {
            "text/plain": [
              "<Figure size 640x480 with 1 Axes>"
            ],
            "image/png": "[encoded data removed]"
          },
          "metadata": {}
        },
        {
          "output_type": "display_data",
          "data": {
            "text/plain": [
              "<Figure size 640x480 with 1 Axes>"
            ],
            "image/png": "[encoded data removed]"
          },
          "metadata": {}
        }
      ],
      "execution_count": null,
      "id": "CIox9-sCXgQV"
    },
    {
      "cell_type": "markdown",
      "metadata": {
        "id": "YwtDZPk7XgQV"
      },
      "source": [
        "### ✍️ Analysis (Analysis & Visualization) — 3–5 sentences\n",
        "- State one pattern that holds across days and one that differs Lunch vs Dinner.\n",
        "- Interpret scatter: linear? heteroscedastic?\n",
        "- What would you plot next?\n",
        "\n",
        "### 🔎 Quick checks\n",
        "- Quote one `.describe()` stat that supports your claim.\n",
        "- Ensure axes labels/titles are informative.\n",
        "\n",
        "### ➕ Extension (pick one)\n",
        "- Add a follow-up chart (e.g., tip% by party size) and describe it.\n",
        "- Bucket `total_bill` and compare medians.\n",
        "\n",
        "**Rubric (10 pts):** Correctness 3 • Evidence 2 • Clarity 2 • Reproducibility 2 • Exploration 1"
      ],
      "id": "YwtDZPk7XgQV"
    },
    {
      "cell_type": "markdown",
      "metadata": {
        "id": "Q8_7m5rPXgQW"
      },
      "source": [
        "## 5) Grouping & Merging (20m)"
      ],
      "id": "Q8_7m5rPXgQW"
    },
    {
      "cell_type": "code",
      "metadata": {
        "id": "8TKDkGRuXgQW"
      },
      "source": [
        "g = (tips.groupby(['day','time'])\n",
        "       .agg(count=('total_bill','size'), avg_bill=('total_bill','mean'),\n",
        "            avg_tip=('tip','mean'), avg_tip_pct=('tip_pct','mean'))); g.head()"
      ],
      "outputs": [],
      "execution_count": null,
      "id": "8TKDkGRuXgQW"
    },
    {
      "cell_type": "code",
      "metadata": {
        "id": "q_HtFMK3XgQW"
      },
      "source": [
        "def pct_above_20(s): return (s>0.20).mean()\n",
        "\n",
        "tips.groupby('day')['tip_pct'].apply(pct_above_20)"
      ],
      "outputs": [],
      "execution_count": null,
      "id": "q_HtFMK3XgQW"
    },
    {
      "cell_type": "code",
      "metadata": {
        "id": "cApcvt5xXgQW"
      },
      "source": [
        "day_lookup = pd.DataFrame({'day':['Thur','Fri','Sat','Sun'],'is_weekend':[False,False,True,True]})\n",
        "tips_merge = tips.merge(day_lookup, on='day', how='left')\n",
        "tips_merge[['day','is_weekend']].drop_duplicates().sort_values('day')"
      ],
      "outputs": [],
      "execution_count": null,
      "id": "cApcvt5xXgQW"
    },
    {
      "cell_type": "markdown",
      "metadata": {
        "id": "mypLIcYrXgQW"
      },
      "source": [
        "### ✅ Exercise 5\n",
        "1) Sum `total_bill` & `tip` by `smoker,sex`. 2) Map `time`→L/D and show pairs."
      ],
      "id": "mypLIcYrXgQW"
    },
    {
      "cell_type": "markdown",
      "metadata": {
        "id": "xQYnTKAJXgQW"
      },
      "source": [
        "**Hints:**\n",
        "- Concept: summarize by groups; enrich via merge.\n",
        "- API: `groupby().agg`, `.merge`.\n"
      ],
      "id": "xQYnTKAJXgQW"
    },
    {
      "cell_type": "code",
      "metadata": {
        "id": "-rmrVQmhXgQW",
        "colab": {
          "base_uri": "https://localhost:8080/"
        },
        "outputId": "9af8fabc-31d1-48df-814b-9ad06c188549"
      },
      "source": [
        "# YOUR WORK: Exercise 5\n",
        "total_by_smoker_sex = tips.groupby(['smoker', 'sex'])[['total_bill', 'tip']].sum()\n",
        "print(total_by_smoker_sex)\n",
        "time_mapping = {'Lunch': 'L', 'Dinner': 'D'}\n",
        "tips['time_mapped'] = tips['time'].map(time_mapping)\n",
        "print(tips[['time', 'time_mapped']].drop_duplicates())"
      ],
      "outputs": [
        {
          "output_type": "stream",
          "name": "stdout",
          "text": [
            "               total_bill     tip\n",
            "smoker sex                       \n",
            "No     Female      977.68  149.77\n",
            "       Male       1919.75  302.00\n",
            "Yes    Female      593.27   96.74\n",
            "       Male       1337.07  183.07\n",
            "      time time_mapped\n",
            "0   Dinner           D\n",
            "77   Lunch           L\n"
          ]
        }
      ],
      "execution_count": null,
      "id": "-rmrVQmhXgQW"
    },
    {
      "cell_type": "markdown",
      "metadata": {
        "id": "2Klqdd8VXgQW"
      },
      "source": [
        "### ✍️ Analysis (Grouping & Merging) — 3–5 sentences\n",
        "- Translate one grouped table into a business insight.\n",
        "- How does `tip_pct` vs `tip` change ranking?\n",
        "- What join-key assumptions are you making?\n",
        "\n",
        "### 🔎 Quick checks\n",
        "- Show index/columns of grouped result.\n",
        "- Check row counts before/after a merge.\n",
        "\n",
        "### ➕ Extension (pick one)\n",
        "- Add `avg_tip_pp` and re-rank groups.\n",
        "- Outer join with `_indicator` and explain one mismatch.\n",
        "\n",
        "**Rubric (10 pts):** Correctness 3 • Evidence 2 • Clarity 2 • Reproducibility 2 • Exploration 1"
      ],
      "id": "2Klqdd8VXgQW"
    },
    {
      "cell_type": "markdown",
      "metadata": {
        "id": "IyGXDx4EXgQW"
      },
      "source": [
        "## 6) Reshaping & Pivoting (15m)"
      ],
      "id": "IyGXDx4EXgQW"
    },
    {
      "cell_type": "code",
      "metadata": {
        "id": "S2RivIN1XgQW"
      },
      "source": [
        "piv = tips.pivot_table(index='day', columns='time', values='tip_pct', aggfunc='mean'); piv"
      ],
      "outputs": [],
      "execution_count": null,
      "id": "S2RivIN1XgQW"
    },
    {
      "cell_type": "code",
      "metadata": {
        "id": "aHciGERFXgQX"
      },
      "source": [
        "long = tips[['day','time','total_bill','tip']].melt(id_vars=['day','time'], var_name='metric', value_name='value'); long.head()"
      ],
      "outputs": [],
      "execution_count": null,
      "id": "aHciGERFXgQX"
    },
    {
      "cell_type": "markdown",
      "metadata": {
        "id": "bdkYCdNfXgQX"
      },
      "source": [
        "### ✅ Exercise 6\n",
        "1) Pivot mean `total_bill` by `size`×`day`. 2) Melt back to long with `size` as id."
      ],
      "id": "bdkYCdNfXgQX"
    },
    {
      "cell_type": "markdown",
      "metadata": {
        "id": "hx_TMHp8XgQX"
      },
      "source": [
        "**Hints:**\n",
        "- Concept: reshape wide↔long.\n",
        "- API: `pivot_table`, `melt`.\n"
      ],
      "id": "hx_TMHp8XgQX"
    },
    {
      "cell_type": "code",
      "metadata": {
        "id": "z1kjMpZJXgQX",
        "colab": {
          "base_uri": "https://localhost:8080/"
        },
        "outputId": "d54ba8bd-bc59-41ec-d38f-ea18750abb83"
      },
      "source": [
        "# YOUR WORK: Exercise 6\n",
        "tips_pivoted = tips.pivot_table(values='total_bill', index='size', columns='day', aggfunc='mean')\n",
        "print(tips_pivoted)\n",
        "tips_melted = tips_pivoted.reset_index().melt(id_vars='size', var_name='day', value_name='mean_total_bill')\n",
        "print(tips_melted)"
      ],
      "outputs": [
        {
          "output_type": "stream",
          "name": "stdout",
          "text": [
            "day      Fri     Sat     Sun    Thur\n",
            "size                                \n",
            "1      8.580   5.160     NaN  10.070\n",
            "2     16.322  16.837  17.560  15.157\n",
            "3     15.980  25.509  22.184  19.160\n",
            "4     40.170  29.876  26.688  29.950\n",
            "5        NaN  28.150  27.000  41.190\n",
            "6        NaN     NaN  48.170  30.383\n",
            "    size   day  mean_total_bill\n",
            "0      1   Fri            8.580\n",
            "1      2   Fri           16.322\n",
            "2      3   Fri           15.980\n",
            "3      4   Fri           40.170\n",
            "4      5   Fri              NaN\n",
            "..   ...   ...              ...\n",
            "19     2  Thur           15.157\n",
            "20     3  Thur           19.160\n",
            "21     4  Thur           29.950\n",
            "22     5  Thur           41.190\n",
            "23     6  Thur           30.383\n",
            "\n",
            "[24 rows x 3 columns]\n"
          ]
        }
      ],
      "execution_count": null,
      "id": "z1kjMpZJXgQX"
    },
    {
      "cell_type": "markdown",
      "metadata": {
        "id": "mm1DZCSOXgQX"
      },
      "source": [
        "### ✍️ Analysis (Reshaping & Pivoting) — 3–5 sentences\n",
        "- When did `pivot_table` drop rows/cols vs `melt`?\n",
        "- Explain wide↔long trade-offs here.\n",
        "- Which format suits your chosen chart and why?\n",
        "\n",
        "### 🔎 Quick checks\n",
        "- Confirm shapes of pivot vs long tables.\n",
        "- List index/columns used in your pivot.\n",
        "\n",
        "### ➕ Extension (pick one)\n",
        "- Change `aggfunc` and compare results.\n",
        "- Add a second dimension in pivot.\n",
        "\n",
        "**Rubric (10 pts):** Correctness 3 • Evidence 2 • Clarity 2 • Reproducibility 2 • Exploration 1"
      ],
      "id": "mm1DZCSOXgQX"
    },
    {
      "cell_type": "markdown",
      "metadata": {
        "id": "Ku3HgUHoXgQX"
      },
      "source": [
        "## 7) Mini-Project: When are tips the most generous? (5–10m)"
      ],
      "id": "Ku3HgUHoXgQX"
    },
    {
      "cell_type": "code",
      "metadata": {
        "id": "AxKjjtTvXgQX"
      },
      "source": [
        "piv = tips.pivot_table(index='day', columns='time', values='tip_pct', aggfunc='mean')\n",
        "print(piv.stack().sort_values(ascending=False).head(5))\n",
        "plt.figure(); plt.imshow(piv.values, aspect='auto')\n",
        "plt.title('Mean tip_pct by day & time'); plt.xlabel('time'); plt.ylabel('day')\n",
        "plt.xticks(range(len(piv.columns)), piv.columns.astype(str))\n",
        "plt.yticks(range(len(piv.index)), piv.index.astype(str))\n",
        "plt.colorbar(); plt.show()"
      ],
      "outputs": [],
      "execution_count": null,
      "id": "AxKjjtTvXgQX"
    },
    {
      "cell_type": "markdown",
      "metadata": {
        "id": "xkwNAHFWXgQX"
      },
      "source": [
        "### ✍️ Analysis (Mini-Project (Tips Generosity)) — 3–5 sentences\n",
        "- State your top day×time combo with mean `tip_pct`.\n",
        "The top combination for the highest mean tip percentage is Sunday dinner.\n",
        "- Is it robust to outliers? How to check?\n",
        "not robust to outliers. To check, you could use the median tip percentage\n",
        "- One follow-up action for a restaurant.\n",
        "A restaurant could investigate what factors make Sunday dinner so generous.\n",
        "### 🔎 Quick checks\n",
        "- Show top 3 combos and their counts.\n",
        "- Confirm sample size for top combo.\n",
        "\n",
        "### ➕ Extension (pick one)\n",
        "- Recompute using median `tip_pct`.\n",
        "- Exclude size<2 and compare ranking.\n",
        "\n",
        "**Rubric (10 pts):** Correctness 3 • Evidence 2 • Clarity 2 • Reproducibility 2 • Exploration 1"
      ],
      "id": "xkwNAHFWXgQX"
    },
    {
      "cell_type": "markdown",
      "metadata": {
        "id": "UkDcw6m0XgQX"
      },
      "source": [
        "# Advanced Module — Daily Operations Coverage (~60–75m)"
      ],
      "id": "UkDcw6m0XgQX"
    },
    {
      "cell_type": "markdown",
      "metadata": {
        "id": "L_shSODqXgQX"
      },
      "source": [
        "## 8) Indexes & MultiIndex (10m)"
      ],
      "id": "L_shSODqXgQX"
    },
    {
      "cell_type": "code",
      "metadata": {
        "id": "YyP0yGtHXgQX"
      },
      "source": [
        "ti = tips.set_index(['day','time']).sort_index()\n",
        "ti.loc[('Sat','Dinner')].head()"
      ],
      "outputs": [],
      "execution_count": null,
      "id": "YyP0yGtHXgQX"
    },
    {
      "cell_type": "code",
      "metadata": {
        "id": "mIWY_F6TXgQY"
      },
      "source": [
        "ti.groupby(level=['day','time'])['tip_pct'].mean().reset_index(name='mean_tip_pct').head()"
      ],
      "outputs": [],
      "execution_count": null,
      "id": "mIWY_F6TXgQY"
    },
    {
      "cell_type": "markdown",
      "metadata": {
        "id": "ajiXKIFEXgQY"
      },
      "source": [
        "### ✍️ Analysis (Indexes & MultiIndex) — 3–5 sentences\n",
        "- What did a MultiIndex buy you over flat columns?\n",
        "allows for powerful hierarchical grouping and slicing of data\n",
        "- Give one easier slice enabled by the index.\n",
        "ti.loc['Sat']\n",
        "- Any pitfalls when saving/loading with MultiIndex?\n",
        "When saving, the MultiIndex is often written to the CSV as flat columns\n",
        "### 🔎 Quick checks\n",
        "- Print `.index.names` and level dtypes.\n",
        "- Show one `.loc` label slice on multi-level.\n",
        "\n",
        "### ➕ Extension (pick one)\n",
        "- Swap levels and explain slicing change.\n",
        "- Reset index and compare to original columns.\n",
        "\n",
        "**Rubric (10 pts):** Correctness 3 • Evidence 2 • Clarity 2 • Reproducibility 2 • Exploration 1"
      ],
      "id": "ajiXKIFEXgQY"
    },
    {
      "cell_type": "markdown",
      "metadata": {
        "id": "ickwqfN0XgQY"
      },
      "source": [
        "## 9) Time Series & Resampling (15m)"
      ],
      "id": "ickwqfN0XgQY"
    },
    {
      "cell_type": "code",
      "metadata": {
        "id": "otV-hG4EXgQY"
      },
      "source": [
        "tips_ts = tips.copy()\n",
        "tips_ts['date'] = pd.to_datetime('2024-01-01') + pd.to_timedelta(np.arange(len(tips_ts)), unit='D')\n",
        "tips_ts = tips_ts.set_index('date').sort_index()\n",
        "weekly = tips_ts.resample('W')[['total_bill','tip']].sum()\n",
        "weekly['tip_pct'] = weekly['tip']/weekly['total_bill']\n",
        "weekly['tip_pct_roll4'] = weekly['tip_pct'].rolling(4, min_periods=1).mean()\n",
        "weekly.head()"
      ],
      "outputs": [],
      "execution_count": null,
      "id": "otV-hG4EXgQY"
    },
    {
      "cell_type": "markdown",
      "metadata": {
        "id": "1L1rrtyzXgQY"
      },
      "source": [
        "### ✍️ Analysis (Time Series & Resampling) — 3–5 sentences\n",
        "- What trend do you see weekly vs monthly?\n",
        "Weekly data shows more noise and short-term fluctuations, while monthly data would show a smoother, long-term trend\n",
        "- Interpret divergence between raw and rolling series.\n",
        "The raw series reflects daily volatility in tipping behavior, while the rolling average series smooths out these fluctuations\n",
        "- Why pick `W` vs `MS`?\n",
        "You would pick 'W' (weekly) to capture weekly patterns, while you would pick 'MS' (monthly start) to look for longer-term\n",
        "### 🔎 Quick checks\n",
        "- Report min/max dates in your index.\n",
        "- State the rolling window used and its effect.\n",
        "\n",
        "### ➕ Extension (pick one)\n",
        "- Try a different window size and compare.\n",
        "- Plot both resampled and rolling series; note one change.\n",
        "\n",
        "**Rubric (10 pts):** Correctness 3 • Evidence 2 • Clarity 2 • Reproducibility 2 • Exploration 1"
      ],
      "id": "1L1rrtyzXgQY"
    },
    {
      "cell_type": "markdown",
      "metadata": {
        "id": "VLvdr3bHXgQY"
      },
      "source": [
        "## 10) Rolling & Window Ops (10m)"
      ],
      "id": "VLvdr3bHXgQY"
    },
    {
      "cell_type": "code",
      "metadata": {
        "id": "GNkJKVSiXgQY"
      },
      "source": [
        "daily = tips_ts.resample('D')[['total_bill']].sum()\n",
        "daily['roll14_med'] = daily['total_bill'].rolling(14, min_periods=1).median()\n",
        "daily[['total_bill','roll14_med']].head()"
      ],
      "outputs": [],
      "execution_count": null,
      "id": "GNkJKVSiXgQY"
    },
    {
      "cell_type": "markdown",
      "metadata": {
        "id": "MzL19y51XgQY"
      },
      "source": [
        "### ✍️ Analysis (Rolling & Window Ops) — 3–5 sentences\n",
        "- Why is median sometimes preferable to mean in rolling stats?\n",
        "The median is less sensitive to outliers or extreme values\n",
        "- What happens at the edges for rolling windows?\n",
        "a rolling window has fewer data points than its defined size\n",
        "- When is `expanding` more suitable than `rolling`?\n",
        "The expanding window is more suitable when you need a cumulative calculation that uses all historical data up to the current point\n",
        "### 🔎 Quick checks\n",
        "- Show first 5 non-NaN rolling results.\n",
        "- Report `min_periods` and justify it.\n",
        "\n",
        "### ➕ Extension (pick one)\n",
        "- Compute an additional rolling metric (std/min) and interpret.\n",
        "- Compare 7 vs 14-day windows with one sentence.\n",
        "\n",
        "**Rubric (10 pts):** Correctness 3 • Evidence 2 • Clarity 2 • Reproducibility 2 • Exploration 1"
      ],
      "id": "MzL19y51XgQY"
    },
    {
      "cell_type": "markdown",
      "metadata": {
        "id": "8DoAlBwgXgQY"
      },
      "source": [
        "## 11) Text Data: vectorized & regex (10m)"
      ],
      "id": "8DoAlBwgXgQY"
    },
    {
      "cell_type": "code",
      "metadata": {
        "id": "6lZ2saAeXgQY"
      },
      "source": [
        "notes = np.array(['VIP table','Late night','Allergic: nuts','Birthday','Family','vip guest'])\n",
        "tips_txt = tips.copy()\n",
        "tips_txt['note'] = np.resize(notes, len(tips_txt)).astype('string')\n",
        "tips_txt['is_vip'] = tips_txt['note'].str.contains('vip', case=False)\n",
        "tips_txt['allergy'] = tips_txt['note'].str.extract(r'Allergic:\\s*(\\w+)', expand=False)\n",
        "tips_txt[['note','is_vip','allergy']].head()"
      ],
      "outputs": [],
      "execution_count": null,
      "id": "6lZ2saAeXgQY"
    },
    {
      "cell_type": "markdown",
      "metadata": {
        "id": "VoF3CTRfXgQY"
      },
      "source": [
        "### ✍️ Analysis (Text / Regex) — 3–5 sentences\n",
        "- Which regex or string op gave most value here?\n",
        "str.extract\n",
        "- How sensitive are your results to case/spacing?\n",
        "results are sensitive to spacing but not to case\n",
        "- One potential false positive in your pattern.\n",
        "allergic to a nut allergy\n",
        "### 🔎 Quick checks\n",
        "- Print counts of a detected flag (e.g., VIP).\n",
        "- Show unique extracted tokens (e.g., allergies).\n",
        "\n",
        "### ➕ Extension (pick one)\n",
        "- Add a refined regex (word boundaries) and compare counts.\n",
        "- Normalize text further and re-check.\n",
        "\n",
        "**Rubric (10 pts):** Correctness 3 • Evidence 2 • Clarity 2 • Reproducibility 2 • Exploration 1"
      ],
      "id": "VoF3CTRfXgQY"
    },
    {
      "cell_type": "markdown",
      "metadata": {
        "id": "SoaslGcnXgQZ"
      },
      "source": [
        "## 12) Nullable dtypes & Memory (5m)"
      ],
      "id": "SoaslGcnXgQZ"
    },
    {
      "cell_type": "code",
      "metadata": {
        "id": "KN5Xb2E0XgQZ"
      },
      "source": [
        "tips_mem = tips.copy()\n",
        "tips_mem['size_N'] = tips_mem['size'].astype('Int64')\n",
        "tips_mem['sex_S']  = tips_mem['sex'].astype('string')\n",
        "tips_mem['day_C']  = tips_mem['day'].astype('category')\n",
        "tips_mem.memory_usage(deep=True)"
      ],
      "outputs": [],
      "execution_count": null,
      "id": "KN5Xb2E0XgQZ"
    },
    {
      "cell_type": "markdown",
      "metadata": {
        "id": "n0MJbwXQXgQZ"
      },
      "source": [
        "### ✍️ Analysis (Dtypes & Memory) — 3–5 sentences\n",
        "- What memory savings did `category` or `string` yield?\n",
        "The category dtype provided significant memory savings by storing only unique values\n",
        "- When would you avoid `category`?\n",
        "Avoid category for columns with a high number of unique values\n",
        "- Any effect on joins/groupbys?\n",
        "Category dtypes can make joins and groupby operations significantly faster.\n",
        "### 🔎 Quick checks\n",
        "- Show `memory_usage(deep=True)` before/after one cast.\n",
        "- List `.cat.categories` for one column.\n",
        "\n",
        "### ➕ Extension (pick one)\n",
        "- Downcast numerics where safe and report delta.\n",
        "- Switch one feature to `Int64` and explain why.\n",
        "\n",
        "**Rubric (10 pts):** Correctness 3 • Evidence 2 • Clarity 2 • Reproducibility 2 • Exploration 1"
      ],
      "id": "n0MJbwXQXgQZ"
    },
    {
      "cell_type": "markdown",
      "metadata": {
        "id": "lIgBRRNuXgQZ"
      },
      "source": [
        "## 13) I/O: CSV, Parquet, JSON, SQL (10m)"
      ],
      "id": "lIgBRRNuXgQZ"
    },
    {
      "cell_type": "code",
      "metadata": {
        "id": "jm0jDIWYXgQZ"
      },
      "source": [
        "subset = tips[['total_bill','tip','day','time','size']].head(20)\n",
        "subset.to_csv('tips_sample.csv', index=False)\n",
        "subset.to_parquet('tips_sample.parquet', index=False)\n",
        "subset.to_json('tips_sample.json', orient='records', lines=True)\n",
        "import sqlite3\n",
        "con = sqlite3.connect(':memory:')\n",
        "subset.to_sql('tips_tbl', con, index=False, if_exists='replace')\n",
        "sql_df = pd.read_sql('SELECT day, time, AVG(total_bill) AS avg_bill FROM tips_tbl GROUP BY day,time', con)\n",
        "con.close(); sql_df.head()"
      ],
      "outputs": [],
      "execution_count": null,
      "id": "jm0jDIWYXgQZ"
    },
    {
      "cell_type": "markdown",
      "metadata": {
        "id": "ouWZTqIFXgQZ"
      },
      "source": [
        "### ✍️ Analysis (I/O) — 3–5 sentences\n",
        "- Which format is best for speed vs size for this table? Why?\n",
        "Parquet\n",
        "- Did any dtype change after round-trip?\n",
        "category type might become a string\n",
        "- When to use line-delimited JSON?\n",
        "for streaming large datasets\n",
        "\n",
        "### 🔎 Quick checks\n",
        "- Compare shapes from CSV/Parquet/JSON loads.\n",
        "- Show one dtype discrepancy and fix it.\n",
        "\n",
        "### ➕ Extension (pick one)\n",
        "- Compress CSV (gzip) and note file size.\n",
        "- Do a small SQL query and validate results match a groupby.\n",
        "\n",
        "**Rubric (10 pts):** Correctness 3 • Evidence 2 • Clarity 2 • Reproducibility 2 • Exploration 1"
      ],
      "id": "ouWZTqIFXgQZ"
    },
    {
      "cell_type": "markdown",
      "metadata": {
        "id": "gqIdO1NuXgQZ"
      },
      "source": [
        "## 14) Join Patterns (10–15m)"
      ],
      "id": "gqIdO1NuXgQZ"
    },
    {
      "cell_type": "code",
      "metadata": {
        "id": "PpfPmWnnXgQZ"
      },
      "source": [
        "left = tips[['day','time','size']].drop_duplicates().copy()\n",
        "right = tips[['day','time','tip']].groupby(['day','time']).mean().reset_index().rename(columns={'tip':'avg_tip'})\n",
        "joined = left.merge(right, on=['day','time'], how='outer', indicator=True)\n",
        "joined.head()"
      ],
      "outputs": [],
      "execution_count": null,
      "id": "PpfPmWnnXgQZ"
    },
    {
      "cell_type": "code",
      "metadata": {
        "id": "BR0YtiNoXgQZ"
      },
      "source": [
        "# Right-only and inner (semi-join-style)\n",
        "right_only = joined.loc[joined['_merge']=='right_only', right.columns]\n",
        "inner_rows = joined.loc[joined['_merge']=='both', left.columns].drop_duplicates()\n",
        "len(inner_rows)"
      ],
      "outputs": [],
      "execution_count": null,
      "id": "BR0YtiNoXgQZ"
    },
    {
      "cell_type": "code",
      "metadata": {
        "id": "6iR4M3CCXgQZ"
      },
      "source": [
        "# merge_ordered and merge_asof demos\n",
        "a = pd.DataFrame({'day':['Fri','Sat','Sun'], 'rank':[1,2,3]})\n",
        "b = pd.DataFrame({'day':['Thur','Sat','Sun'], 'score':[70,80,90]})\n",
        "ordered = pd.merge_ordered(a, b, on='day', how='outer')\n",
        "events = pd.DataFrame({'when': pd.to_datetime(['2024-01-01 10:00','2024-01-02 12:30','2024-01-04 09:00']),'event':['A','B','C']}).sort_values('when')\n",
        "measures = pd.DataFrame({'when': pd.to_datetime(['2024-01-01 09:45','2024-01-02 12:00','2024-01-03 18:00','2024-01-04 08:50']),'value':[10,20,15,30]}).sort_values('when')\n",
        "asof_join = pd.merge_asof(events, measures, on='when', direction='nearest', tolerance=pd.Timedelta('1H'))\n",
        "ordered.head(), asof_join.head()"
      ],
      "outputs": [],
      "execution_count": null,
      "id": "6iR4M3CCXgQZ"
    },
    {
      "cell_type": "markdown",
      "metadata": {
        "id": "WmGtcvrYXgQZ"
      },
      "source": [
        "### ✍️ Analysis (Joins) — 3–5 sentences\n",
        "- Read `_indicator` results—what mismatches did you find?\n",
        "no mismatches\n",
        "- Where would `merge_asof` fit in a real pipeline?\n",
        " merging time-series data, such as joining stock prices with market events\n",
        "- Any ordering assumptions for `merge_ordered`?\n",
        "both DataFrames are already sorted by the join key\n",
        "### 🔎 Quick checks\n",
        "- Report counts for left/right/inner.\n",
        "- Show 2 sample rows from an anti-join.\n",
        "\n",
        "### ➕ Extension (pick one)\n",
        "- Perform a semi-join and explain the use-case.\n",
        "- Add a composite key and re-merge.\n",
        "\n",
        "**Rubric (10 pts):** Correctness 3 • Evidence 2 • Clarity 2 • Reproducibility 2 • Exploration 1"
      ],
      "id": "WmGtcvrYXgQZ"
    },
    {
      "cell_type": "markdown",
      "metadata": {
        "id": "4ht1ZVNLXgQa"
      },
      "source": [
        "## 15) Method Chaining & `.pipe`, `.query`, `.eval` (10m)"
      ],
      "id": "4ht1ZVNLXgQa"
    },
    {
      "cell_type": "code",
      "metadata": {
        "id": "Av5gOlpoXgQa"
      },
      "source": [
        "def add_bill_per_person(df): return df.assign(bill_per_person = df['total_bill']/df['size'])\n",
        "pipe_demo = (tips.query(\"time=='Dinner'\").pipe(add_bill_per_person)\n",
        "             .groupby('day').agg(mean_bill_pp=('bill_per_person','mean'),\n",
        "                                 mean_tip_pct=('tip_pct','mean'))\n",
        "             .sort_values('mean_bill_pp', ascending=False))\n",
        "eval_demo = tips.eval('bill_pp = total_bill / size')\n",
        "pipe_demo.head(), eval_demo[['total_bill','size','bill_pp']].head()"
      ],
      "outputs": [],
      "execution_count": null,
      "id": "Av5gOlpoXgQa"
    },
    {
      "cell_type": "markdown",
      "metadata": {
        "id": "kNs8uzDpXgQa"
      },
      "source": [
        "### ✍️ Analysis (Method Chaining) — 3–5 sentences\n",
        "- What made the chained pipeline clearer or riskier?\n",
        "The chained pipeline is clearer due to its sequential, readable flow but riskier because it is more difficult to debug intermediate results.\n",
        "- Where would you break the chain for debugging?\n",
        "inspect the DataFrame's state\n",
        "- When is `.eval` useful vs risky?\n",
        "useful for concise, potentially faster computations but risky because it can be less readable\n",
        "### 🔎 Quick checks\n",
        "- Show final columns of your pipeline result.\n",
        "- Confirm idempotency by re-running.\n",
        "\n",
        "### ➕ Extension (pick one)\n",
        "- Refactor an earlier analysis into a chain; compare readability.\n",
        "- Encapsulate a step into `.pipe` and reuse it.\n",
        "\n",
        "**Rubric (10 pts):** Correctness 3 • Evidence 2 • Clarity 2 • Reproducibility 2 • Exploration 1"
      ],
      "id": "kNs8uzDpXgQa"
    },
    {
      "cell_type": "markdown",
      "metadata": {
        "id": "jyl3fIZUXgQa"
      },
      "source": [
        "## 16) Crosstab, `cut/qcut`, `where/mask` (5–10m)"
      ],
      "id": "jyl3fIZUXgQa"
    },
    {
      "cell_type": "code",
      "metadata": {
        "id": "bwps3WcfXgQa"
      },
      "source": [
        "ct = pd.crosstab(tips['smoker'], tips['day'])\n",
        "tips_bins = tips.copy()\n",
        "tips_bins['bill_bucket'] = pd.cut(tips_bins['total_bill'], bins=[0,10,20,30,50])\n",
        "bucket_mean = tips_bins.groupby('bill_bucket')['tip'].mean()\n",
        "tips_q = tips.assign(q = pd.qcut(tips['tip_pct'], 4, duplicates='drop'))\n",
        "ct, bucket_mean, tips_q.groupby('q')['total_bill'].mean()"
      ],
      "outputs": [],
      "execution_count": null,
      "id": "bwps3WcfXgQa"
    },
    {
      "cell_type": "markdown",
      "metadata": {
        "id": "fFHg0AhLXgQa"
      },
      "source": [
        "### ✍️ Analysis (Crosstab / Bucketing) — 3–5 sentences\n",
        "- What story does your crosstab tell in one sentence?\n",
        "shows the frequency of smokers and non-smokers visiting on different days of the week.\n",
        "- How did `cut` vs `qcut` change bucket sizes?\n",
        "cut created buckets of equal size based on the value range, while qcut created buckets with an equal number of observations.\n",
        "- When is `where` preferable to boolean indexing?\n",
        "where is preferable when you want to replace values in a DataFrame that do not meet a condition with a specific value\n",
        "### 🔎 Quick checks\n",
        "- Show bucket edges and counts.\n",
        "- Verify monotonicity of bucket means if expected.\n",
        "\n",
        "### ➕ Extension (pick one)\n",
        "- Swap `qcut`/`cut` and compare stats.\n",
        "- Mask outliers and re-summarize.\n",
        "\n",
        "**Rubric (10 pts):** Correctness 3 • Evidence 2 • Clarity 2 • Reproducibility 2 • Exploration 1"
      ],
      "id": "fFHg0AhLXgQa"
    },
    {
      "cell_type": "markdown",
      "metadata": {
        "id": "R2w6FbuuXgQa"
      },
      "source": [
        "## 17) Styling & Export (5m)"
      ],
      "id": "R2w6FbuuXgQa"
    },
    {
      "cell_type": "code",
      "metadata": {
        "id": "wAkySJ0nXgQa"
      },
      "source": [
        "sty = (tips.groupby('day')[['total_bill','tip','tip_pct']].mean().round(2)\n",
        "         .style.format({'tip_pct':'{:.2%}'}).background_gradient(axis=None))\n",
        "html = sty.to_html()\n",
        "open('tips_report.html','w',encoding='utf-8').write(html)\n",
        "'Wrote tips_report.html'"
      ],
      "outputs": [],
      "execution_count": null,
      "id": "wAkySJ0nXgQa"
    },
    {
      "cell_type": "markdown",
      "metadata": {
        "id": "pUZJZ6jBXgQa"
      },
      "source": [
        "### ✍️ Analysis (Styling & Export) — 3–5 sentences\n",
        "- What formatting improved readability most?\n",
        "background gradient\n",
        "- How would a stakeholder use this HTML report?\n",
        "as a static, shareable summary of the data\n",
        "- One caution about styled HTML vs raw data files.\n",
        "it is a static visual report and cannot be used for further analysis or calculations\n",
        "### 🔎 Quick checks\n",
        "- Open the HTML to spot issues (NA/odd values).\n",
        "- Confirm underlying numbers (pre-style) are correct.\n",
        "\n",
        "### ➕ Extension (pick one)\n",
        "- Add one more style and explain choice.\n",
        "- Export both styled HTML and CSV for same table.\n",
        "\n",
        "**Rubric (10 pts):** Correctness 3 • Evidence 2 • Clarity 2 • Reproducibility 2 • Exploration 1"
      ],
      "id": "pUZJZ6jBXgQa"
    },
    {
      "cell_type": "markdown",
      "metadata": {
        "id": "a1O4E_R3XgQa"
      },
      "source": [
        "# Capstone Mini-Project (Free Dataset): **Titanic Survival Analysis** (30–45m)"
      ],
      "id": "a1O4E_R3XgQa"
    },
    {
      "cell_type": "markdown",
      "metadata": {
        "id": "gDhVnAV8XgQa"
      },
      "source": [
        "**Source:** https://raw.githubusercontent.com/mwaskom/seaborn-data/master/titanic.csv"
      ],
      "id": "gDhVnAV8XgQa"
    },
    {
      "cell_type": "code",
      "metadata": {
        "id": "Mp6lmKvBXgQa"
      },
      "source": [
        "import pandas as pd, numpy as np, matplotlib.pyplot as plt"
      ],
      "outputs": [],
      "execution_count": null,
      "id": "Mp6lmKvBXgQa"
    },
    {
      "cell_type": "code",
      "metadata": {
        "id": "61Rxkl1-XgQb",
        "colab": {
          "base_uri": "https://localhost:8080/",
          "height": 206
        },
        "outputId": "c161a1c5-be98-4044-8288-95e2ff99fa14"
      },
      "source": [
        "tit_url = \"https://raw.githubusercontent.com/mwaskom/seaborn-data/master/titanic.csv\"\n",
        "titanic = pd.read_csv(tit_url)\n",
        "titanic.head()"
      ],
      "outputs": [
        {
          "output_type": "execute_result",
          "data": {
            "text/plain": [
              "   survived  pclass     sex   age  sibsp  parch    fare embarked  class  \\\n",
              "0         0       3    male  22.0      1      0   7.250        S  Third   \n",
              "1         1       1  female  38.0      1      0  71.283        C  First   \n",
              "2         1       3  female  26.0      0      0   7.925        S  Third   \n",
              "3         1       1  female  35.0      1      0  53.100        S  First   \n",
              "4         0       3    male  35.0      0      0   8.050        S  Third   \n",
              "\n",
              "     who  adult_male deck  embark_town alive  alone  \n",
              "0    man        True  NaN  Southampton    no  False  \n",
              "1  woman       False    C    Cherbourg   yes  False  \n",
              "2  woman       False  NaN  Southampton   yes   True  \n",
              "3  woman       False    C  Southampton   yes  False  \n",
              "4    man        True  NaN  Southampton    no   True  "
            ],
            "text/html": [
              "\n",
              "  <div id=\"df-ecce257c-b88d-486e-84a5-e1e17294d36d\" class=\"colab-df-container\">\n",
              "    <div>\n",
              "<style scoped>\n",
              "    .dataframe tbody tr th:only-of-type {\n",
              "        vertical-align: middle;\n",
              "    }\n",
              "\n",
              "    .dataframe tbody tr th {\n",
              "        vertical-align: top;\n",
              "    }\n",
              "\n",
              "    .dataframe thead th {\n",
              "        text-align: right;\n",
              "    }\n",
              "</style>\n",
              "<table border=\"1\" class=\"dataframe\">\n",
              "  <thead>\n",
              "    <tr style=\"text-align: right;\">\n",
              "      <th></th>\n",
              "      <th>survived</th>\n",
              "      <th>pclass</th>\n",
              "      <th>sex</th>\n",
              "      <th>age</th>\n",
              "      <th>sibsp</th>\n",
              "      <th>parch</th>\n",
              "      <th>fare</th>\n",
              "      <th>embarked</th>\n",
              "      <th>class</th>\n",
              "      <th>who</th>\n",
              "      <th>adult_male</th>\n",
              "      <th>deck</th>\n",
              "      <th>embark_town</th>\n",
              "      <th>alive</th>\n",
              "      <th>alone</th>\n",
              "    </tr>\n",
              "  </thead>\n",
              "  <tbody>\n",
              "    <tr>\n",
              "      <th>0</th>\n",
              "      <td>0</td>\n",
              "      <td>3</td>\n",
              "      <td>male</td>\n",
              "      <td>22.0</td>\n",
              "      <td>1</td>\n",
              "      <td>0</td>\n",
              "      <td>7.250</td>\n",
              "      <td>S</td>\n",
              "      <td>Third</td>\n",
              "      <td>man</td>\n",
              "      <td>True</td>\n",
              "      <td>NaN</td>\n",
              "      <td>Southampton</td>\n",
              "      <td>no</td>\n",
              "      <td>False</td>\n",
              "    </tr>\n",
              "    <tr>\n",
              "      <th>1</th>\n",
              "      <td>1</td>\n",
              "      <td>1</td>\n",
              "      <td>female</td>\n",
              "      <td>38.0</td>\n",
              "      <td>1</td>\n",
              "      <td>0</td>\n",
              "      <td>71.283</td>\n",
              "      <td>C</td>\n",
              "      <td>First</td>\n",
              "      <td>woman</td>\n",
              "      <td>False</td>\n",
              "      <td>C</td>\n",
              "      <td>Cherbourg</td>\n",
              "      <td>yes</td>\n",
              "      <td>False</td>\n",
              "    </tr>\n",
              "    <tr>\n",
              "      <th>2</th>\n",
              "      <td>1</td>\n",
              "      <td>3</td>\n",
              "      <td>female</td>\n",
              "      <td>26.0</td>\n",
              "      <td>0</td>\n",
              "      <td>0</td>\n",
              "      <td>7.925</td>\n",
              "      <td>S</td>\n",
              "      <td>Third</td>\n",
              "      <td>woman</td>\n",
              "      <td>False</td>\n",
              "      <td>NaN</td>\n",
              "      <td>Southampton</td>\n",
              "      <td>yes</td>\n",
              "      <td>True</td>\n",
              "    </tr>\n",
              "    <tr>\n",
              "      <th>3</th>\n",
              "      <td>1</td>\n",
              "      <td>1</td>\n",
              "      <td>female</td>\n",
              "      <td>35.0</td>\n",
              "      <td>1</td>\n",
              "      <td>0</td>\n",
              "      <td>53.100</td>\n",
              "      <td>S</td>\n",
              "      <td>First</td>\n",
              "      <td>woman</td>\n",
              "      <td>False</td>\n",
              "      <td>C</td>\n",
              "      <td>Southampton</td>\n",
              "      <td>yes</td>\n",
              "      <td>False</td>\n",
              "    </tr>\n",
              "    <tr>\n",
              "      <th>4</th>\n",
              "      <td>0</td>\n",
              "      <td>3</td>\n",
              "      <td>male</td>\n",
              "      <td>35.0</td>\n",
              "      <td>0</td>\n",
              "      <td>0</td>\n",
              "      <td>8.050</td>\n",
              "      <td>S</td>\n",
              "      <td>Third</td>\n",
              "      <td>man</td>\n",
              "      <td>True</td>\n",
              "      <td>NaN</td>\n",
              "      <td>Southampton</td>\n",
              "      <td>no</td>\n",
              "      <td>True</td>\n",
              "    </tr>\n",
              "  </tbody>\n",
              "</table>\n",
              "</div>\n",
              "    <div class=\"colab-df-buttons\">\n",
              "\n",
              "  <div class=\"colab-df-container\">\n",
              "    <button class=\"colab-df-convert\" onclick=\"convertToInteractive('df-ecce257c-b88d-486e-84a5-e1e17294d36d')\"\n",
              "            title=\"Convert this dataframe to an interactive table.\"\n",
              "            style=\"display:none;\">\n",
              "\n",
              "  <svg xmlns=\"http://www.w3.org/2000/svg\" height=\"24px\" viewBox=\"0 -960 960 960\">\n",
              "    <path d=\"M120-120v-720h720v720H120Zm60-500h600v-160H180v160Zm220 220h160v-160H400v160Zm0 220h160v-160H400v160ZM180-400h160v-160H180v160Zm440 0h160v-160H620v160ZM180-180h160v-160H180v160Zm440 0h160v-160H620v160Z\"/>\n",
              "  </svg>\n",
              "    </button>\n",
              "\n",
              "  <style>\n",
              "    .colab-df-container {\n",
              "      display:flex;\n",
              "      gap: 12px;\n",
              "    }\n",
              "\n",
              "    .colab-df-convert {\n",
              "      background-color: #E8F0FE;\n",
              "      border: none;\n",
              "      border-radius: 50%;\n",
              "      cursor: pointer;\n",
              "      display: none;\n",
              "      fill: #1967D2;\n",
              "      height: 32px;\n",
              "      padding: 0 0 0 0;\n",
              "      width: 32px;\n",
              "    }\n",
              "\n",
              "    .colab-df-convert:hover {\n",
              "      background-color: #E2EBFA;\n",
              "      box-shadow: 0px 1px 2px rgba(60, 64, 67, 0.3), 0px 1px 3px 1px rgba(60, 64, 67, 0.15);\n",
              "      fill: #174EA6;\n",
              "    }\n",
              "\n",
              "    .colab-df-buttons div {\n",
              "      margin-bottom: 4px;\n",
              "    }\n",
              "\n",
              "    [theme=dark] .colab-df-convert {\n",
              "      background-color: #3B4455;\n",
              "      fill: #D2E3FC;\n",
              "    }\n",
              "\n",
              "    [theme=dark] .colab-df-convert:hover {\n",
              "      background-color: #434B5C;\n",
              "      box-shadow: 0px 1px 3px 1px rgba(0, 0, 0, 0.15);\n",
              "      filter: drop-shadow(0px 1px 2px rgba(0, 0, 0, 0.3));\n",
              "      fill: #FFFFFF;\n",
              "    }\n",
              "  </style>\n",
              "\n",
              "    <script>\n",
              "      const buttonEl =\n",
              "        document.querySelector('#df-ecce257c-b88d-486e-84a5-e1e17294d36d button.colab-df-convert');\n",
              "      buttonEl.style.display =\n",
              "        google.colab.kernel.accessAllowed ? 'block' : 'none';\n",
              "\n",
              "      async function convertToInteractive(key) {\n",
              "        const element = document.querySelector('#df-ecce257c-b88d-486e-84a5-e1e17294d36d');\n",
              "        const dataTable =\n",
              "          await google.colab.kernel.invokeFunction('convertToInteractive',\n",
              "                                                    [key], {});\n",
              "        if (!dataTable) return;\n",
              "\n",
              "        const docLinkHtml = 'Like what you see? Visit the ' +\n",
              "          '<a target=\"_blank\" href=https://colab.research.google.com/notebooks/data_table.ipynb>data table notebook</a>'\n",
              "          + ' to learn more about interactive tables.';\n",
              "        element.innerHTML = '';\n",
              "        dataTable['output_type'] = 'display_data';\n",
              "        await google.colab.output.renderOutput(dataTable, element);\n",
              "        const docLink = document.createElement('div');\n",
              "        docLink.innerHTML = docLinkHtml;\n",
              "        element.appendChild(docLink);\n",
              "      }\n",
              "    </script>\n",
              "  </div>\n",
              "\n",
              "\n",
              "    <div id=\"df-a8b8cb0e-1547-4a06-a99e-0de48084c519\">\n",
              "      <button class=\"colab-df-quickchart\" onclick=\"quickchart('df-a8b8cb0e-1547-4a06-a99e-0de48084c519')\"\n",
              "                title=\"Suggest charts\"\n",
              "                style=\"display:none;\">\n",
              "\n",
              "<svg xmlns=\"http://www.w3.org/2000/svg\" height=\"24px\"viewBox=\"0 0 24 24\"\n",
              "     width=\"24px\">\n",
              "    <g>\n",
              "        <path d=\"M19 3H5c-1.1 0-2 .9-2 2v14c0 1.1.9 2 2 2h14c1.1 0 2-.9 2-2V5c0-1.1-.9-2-2-2zM9 17H7v-7h2v7zm4 0h-2V7h2v10zm4 0h-2v-4h2v4z\"/>\n",
              "    </g>\n",
              "</svg>\n",
              "      </button>\n",
              "\n",
              "<style>\n",
              "  .colab-df-quickchart {\n",
              "      --bg-color: #E8F0FE;\n",
              "      --fill-color: #1967D2;\n",
              "      --hover-bg-color: #E2EBFA;\n",
              "      --hover-fill-color: #174EA6;\n",
              "      --disabled-fill-color: #AAA;\n",
              "      --disabled-bg-color: #DDD;\n",
              "  }\n",
              "\n",
              "  [theme=dark] .colab-df-quickchart {\n",
              "      --bg-color: #3B4455;\n",
              "      --fill-color: #D2E3FC;\n",
              "      --hover-bg-color: #434B5C;\n",
              "      --hover-fill-color: #FFFFFF;\n",
              "      --disabled-bg-color: #3B4455;\n",
              "      --disabled-fill-color: #666;\n",
              "  }\n",
              "\n",
              "  .colab-df-quickchart {\n",
              "    background-color: var(--bg-color);\n",
              "    border: none;\n",
              "    border-radius: 50%;\n",
              "    cursor: pointer;\n",
              "    display: none;\n",
              "    fill: var(--fill-color);\n",
              "    height: 32px;\n",
              "    padding: 0;\n",
              "    width: 32px;\n",
              "  }\n",
              "\n",
              "  .colab-df-quickchart:hover {\n",
              "    background-color: var(--hover-bg-color);\n",
              "    box-shadow: 0 1px 2px rgba(60, 64, 67, 0.3), 0 1px 3px 1px rgba(60, 64, 67, 0.15);\n",
              "    fill: var(--button-hover-fill-color);\n",
              "  }\n",
              "\n",
              "  .colab-df-quickchart-complete:disabled,\n",
              "  .colab-df-quickchart-complete:disabled:hover {\n",
              "    background-color: var(--disabled-bg-color);\n",
              "    fill: var(--disabled-fill-color);\n",
              "    box-shadow: none;\n",
              "  }\n",
              "\n",
              "  .colab-df-spinner {\n",
              "    border: 2px solid var(--fill-color);\n",
              "    border-color: transparent;\n",
              "    border-bottom-color: var(--fill-color);\n",
              "    animation:\n",
              "      spin 1s steps(1) infinite;\n",
              "  }\n",
              "\n",
              "  @keyframes spin {\n",
              "    0% {\n",
              "      border-color: transparent;\n",
              "      border-bottom-color: var(--fill-color);\n",
              "      border-left-color: var(--fill-color);\n",
              "    }\n",
              "    20% {\n",
              "      border-color: transparent;\n",
              "      border-left-color: var(--fill-color);\n",
              "      border-top-color: var(--fill-color);\n",
              "    }\n",
              "    30% {\n",
              "      border-color: transparent;\n",
              "      border-left-color: var(--fill-color);\n",
              "      border-top-color: var(--fill-color);\n",
              "      border-right-color: var(--fill-color);\n",
              "    }\n",
              "    40% {\n",
              "      border-color: transparent;\n",
              "      border-right-color: var(--fill-color);\n",
              "      border-top-color: var(--fill-color);\n",
              "    }\n",
              "    60% {\n",
              "      border-color: transparent;\n",
              "      border-right-color: var(--fill-color);\n",
              "    }\n",
              "    80% {\n",
              "      border-color: transparent;\n",
              "      border-right-color: var(--fill-color);\n",
              "      border-bottom-color: var(--fill-color);\n",
              "    }\n",
              "    90% {\n",
              "      border-color: transparent;\n",
              "      border-bottom-color: var(--fill-color);\n",
              "    }\n",
              "  }\n",
              "</style>\n",
              "\n",
              "      <script>\n",
              "        async function quickchart(key) {\n",
              "          const quickchartButtonEl =\n",
              "            document.querySelector('#' + key + ' button');\n",
              "          quickchartButtonEl.disabled = true;  // To prevent multiple clicks.\n",
              "          quickchartButtonEl.classList.add('colab-df-spinner');\n",
              "          try {\n",
              "            const charts = await google.colab.kernel.invokeFunction(\n",
              "                'suggestCharts', [key], {});\n",
              "          } catch (error) {\n",
              "            console.error('Error during call to suggestCharts:', error);\n",
              "          }\n",
              "          quickchartButtonEl.classList.remove('colab-df-spinner');\n",
              "          quickchartButtonEl.classList.add('colab-df-quickchart-complete');\n",
              "        }\n",
              "        (() => {\n",
              "          let quickchartButtonEl =\n",
              "            document.querySelector('#df-a8b8cb0e-1547-4a06-a99e-0de48084c519 button');\n",
              "          quickchartButtonEl.style.display =\n",
              "            google.colab.kernel.accessAllowed ? 'block' : 'none';\n",
              "        })();\n",
              "      </script>\n",
              "    </div>\n",
              "\n",
              "    </div>\n",
              "  </div>\n"
            ],
            "application/vnd.google.colaboratory.intrinsic+json": {
              "type": "dataframe",
              "variable_name": "titanic",
              "summary": "{\n  \"name\": \"titanic\",\n  \"rows\": 891,\n  \"fields\": [\n    {\n      \"column\": \"survived\",\n      \"properties\": {\n        \"dtype\": \"number\",\n        \"std\": 0,\n        \"min\": 0,\n        \"max\": 1,\n        \"num_unique_values\": 2,\n        \"samples\": [\n          1,\n          0\n        ],\n        \"semantic_type\": \"\",\n        \"description\": \"\"\n      }\n    },\n    {\n      \"column\": \"pclass\",\n      \"properties\": {\n        \"dtype\": \"number\",\n        \"std\": 0,\n        \"min\": 1,\n        \"max\": 3,\n        \"num_unique_values\": 3,\n        \"samples\": [\n          3,\n          1\n        ],\n        \"semantic_type\": \"\",\n        \"description\": \"\"\n      }\n    },\n    {\n      \"column\": \"sex\",\n      \"properties\": {\n        \"dtype\": \"category\",\n        \"num_unique_values\": 2,\n        \"samples\": [\n          \"female\",\n          \"male\"\n        ],\n        \"semantic_type\": \"\",\n        \"description\": \"\"\n      }\n    },\n    {\n      \"column\": \"age\",\n      \"properties\": {\n        \"dtype\": \"number\",\n        \"std\": 14.526497332334044,\n        \"min\": 0.42,\n        \"max\": 80.0,\n        \"num_unique_values\": 88,\n        \"samples\": [\n          0.75,\n          22.0\n        ],\n        \"semantic_type\": \"\",\n        \"description\": \"\"\n      }\n    },\n    {\n      \"column\": \"sibsp\",\n      \"properties\": {\n        \"dtype\": \"number\",\n        \"std\": 1,\n        \"min\": 0,\n        \"max\": 8,\n        \"num_unique_values\": 7,\n        \"samples\": [\n          1,\n          0\n        ],\n        \"semantic_type\": \"\",\n        \"description\": \"\"\n      }\n    },\n    {\n      \"column\": \"parch\",\n      \"properties\": {\n        \"dtype\": \"number\",\n        \"std\": 0,\n        \"min\": 0,\n        \"max\": 6,\n        \"num_unique_values\": 7,\n        \"samples\": [\n          0,\n          1\n        ],\n        \"semantic_type\": \"\",\n        \"description\": \"\"\n      }\n    },\n    {\n      \"column\": \"fare\",\n      \"properties\": {\n        \"dtype\": \"number\",\n        \"std\": 49.693428597180905,\n        \"min\": 0.0,\n        \"max\": 512.3292,\n        \"num_unique_values\": 248,\n        \"samples\": [\n          11.2417,\n          51.8625\n        ],\n        \"semantic_type\": \"\",\n        \"description\": \"\"\n      }\n    },\n    {\n      \"column\": \"embarked\",\n      \"properties\": {\n        \"dtype\": \"category\",\n        \"num_unique_values\": 3,\n        \"samples\": [\n          \"S\",\n          \"C\"\n        ],\n        \"semantic_type\": \"\",\n        \"description\": \"\"\n      }\n    },\n    {\n      \"column\": \"class\",\n      \"properties\": {\n        \"dtype\": \"category\",\n        \"num_unique_values\": 3,\n        \"samples\": [\n          \"Third\",\n          \"First\"\n        ],\n        \"semantic_type\": \"\",\n        \"description\": \"\"\n      }\n    },\n    {\n      \"column\": \"who\",\n      \"properties\": {\n        \"dtype\": \"category\",\n        \"num_unique_values\": 3,\n        \"samples\": [\n          \"man\",\n          \"woman\"\n        ],\n        \"semantic_type\": \"\",\n        \"description\": \"\"\n      }\n    },\n    {\n      \"column\": \"adult_male\",\n      \"properties\": {\n        \"dtype\": \"boolean\",\n        \"num_unique_values\": 2,\n        \"samples\": [\n          false,\n          true\n        ],\n        \"semantic_type\": \"\",\n        \"description\": \"\"\n      }\n    },\n    {\n      \"column\": \"deck\",\n      \"properties\": {\n        \"dtype\": \"category\",\n        \"num_unique_values\": 7,\n        \"samples\": [\n          \"C\",\n          \"E\"\n        ],\n        \"semantic_type\": \"\",\n        \"description\": \"\"\n      }\n    },\n    {\n      \"column\": \"embark_town\",\n      \"properties\": {\n        \"dtype\": \"category\",\n        \"num_unique_values\": 3,\n        \"samples\": [\n          \"Southampton\",\n          \"Cherbourg\"\n        ],\n        \"semantic_type\": \"\",\n        \"description\": \"\"\n      }\n    },\n    {\n      \"column\": \"alive\",\n      \"properties\": {\n        \"dtype\": \"category\",\n        \"num_unique_values\": 2,\n        \"samples\": [\n          \"yes\",\n          \"no\"\n        ],\n        \"semantic_type\": \"\",\n        \"description\": \"\"\n      }\n    },\n    {\n      \"column\": \"alone\",\n      \"properties\": {\n        \"dtype\": \"boolean\",\n        \"num_unique_values\": 2,\n        \"samples\": [\n          true,\n          false\n        ],\n        \"semantic_type\": \"\",\n        \"description\": \"\"\n      }\n    }\n  ]\n}"
            }
          },
          "metadata": {},
          "execution_count": 5
        }
      ],
      "execution_count": null,
      "id": "61Rxkl1-XgQb"
    },
    {
      "cell_type": "code",
      "metadata": {
        "id": "mjxZ_3W_XgQb",
        "colab": {
          "base_uri": "https://localhost:8080/"
        },
        "outputId": "55c2def8-2d69-46b5-c162-d0ae71e99cd4"
      },
      "source": [
        "print(\"Shape:\", titanic.shape)\n",
        "print(\"\\nInfo:\"); print(titanic.info())\n",
        "print(\"\\nMissing values per column:\"); print(titanic.isna().sum().sort_values(ascending=False).head(12))"
      ],
      "outputs": [
        {
          "output_type": "stream",
          "name": "stdout",
          "text": [
            "Shape: (891, 15)\n",
            "\n",
            "Info:\n",
            "<class 'pandas.core.frame.DataFrame'>\n",
            "RangeIndex: 891 entries, 0 to 890\n",
            "Data columns (total 15 columns):\n",
            " #   Column       Non-Null Count  Dtype  \n",
            "---  ------       --------------  -----  \n",
            " 0   survived     891 non-null    int64  \n",
            " 1   pclass       891 non-null    int64  \n",
            " 2   sex          891 non-null    object \n",
            " 3   age          714 non-null    float64\n",
            " 4   sibsp        891 non-null    int64  \n",
            " 5   parch        891 non-null    int64  \n",
            " 6   fare         891 non-null    float64\n",
            " 7   embarked     889 non-null    object \n",
            " 8   class        891 non-null    object \n",
            " 9   who          891 non-null    object \n",
            " 10  adult_male   891 non-null    bool   \n",
            " 11  deck         203 non-null    object \n",
            " 12  embark_town  889 non-null    object \n",
            " 13  alive        891 non-null    object \n",
            " 14  alone        891 non-null    bool   \n",
            "dtypes: bool(2), float64(2), int64(4), object(7)\n",
            "memory usage: 92.4+ KB\n",
            "None\n",
            "\n",
            "Missing values per column:\n",
            "deck           688\n",
            "age            177\n",
            "embarked         2\n",
            "embark_town      2\n",
            "sex              0\n",
            "              ... \n",
            "fare             0\n",
            "parch            0\n",
            "sibsp            0\n",
            "class            0\n",
            "adult_male       0\n",
            "Length: 12, dtype: int64\n"
          ]
        }
      ],
      "execution_count": null,
      "id": "mjxZ_3W_XgQb"
    },
    {
      "cell_type": "markdown",
      "metadata": {
        "id": "gGUZ7BOFXgQb"
      },
      "source": [
        "## A) Data Cleaning & Feature Engineering"
      ],
      "id": "gGUZ7BOFXgQb"
    },
    {
      "cell_type": "code",
      "metadata": {
        "id": "5S0XnBI-XgQb",
        "colab": {
          "base_uri": "https://localhost:8080/",
          "height": 261
        },
        "outputId": "be8d26c5-7e82-4b3a-b7e0-dd8900947cd7"
      },
      "source": [
        "df = titanic.copy()\n",
        "for col in ['sex','class','embarked','embark_town','alive','who','deck','alone','adult_male']:\n",
        "    if col in df.columns: df[col] = df[col].astype('category')\n",
        "age_med = df.groupby(['sex','class'])['age'].transform('median')\n",
        "df['age'] = df['age'].fillna(age_med)\n",
        "if df['embark_town'].isna().any():\n",
        "    mode_town = df['embark_town'].mode(dropna=True)\n",
        "    if not mode_town.empty: df['embark_town'] = df['embark_town'].fillna(mode_town.iloc[0])\n",
        "df['family_size'] = df['sibsp'].fillna(0) + df['parch'].fillna(0) + 1\n",
        "df['fare_pp'] = df['fare'] / df['family_size']\n",
        "df['deck'] = df['deck'].cat.add_categories(['Unknown']).fillna('Unknown')\n",
        "bins = [0,12,18,35,50,80]; labels = ['Child','Teen','YoungAdult','MidAge','Senior']\n",
        "df['age_group'] = pd.cut(df['age'], bins=bins, labels=labels, include_lowest=True)\n",
        "df.head()"
      ],
      "outputs": [
        {
          "output_type": "stream",
          "name": "stderr",
          "text": [
            "/tmp/ipython-input-587888411.py:4: FutureWarning: The default of observed=False is deprecated and will be changed to True in a future version of pandas. Pass observed=False to retain current behavior or observed=True to adopt the future default and silence this warning.\n",
            "  age_med = df.groupby(['sex','class'])['age'].transform('median')\n"
          ]
        },
        {
          "output_type": "execute_result",
          "data": {
            "text/plain": [
              "   survived  pclass     sex   age  sibsp  parch    fare embarked  class  \\\n",
              "0         0       3    male  22.0      1      0   7.250        S  Third   \n",
              "1         1       1  female  38.0      1      0  71.283        C  First   \n",
              "2         1       3  female  26.0      0      0   7.925        S  Third   \n",
              "3         1       1  female  35.0      1      0  53.100        S  First   \n",
              "4         0       3    male  35.0      0      0   8.050        S  Third   \n",
              "\n",
              "     who adult_male     deck  embark_town alive  alone  family_size  fare_pp  \\\n",
              "0    man       True  Unknown  Southampton    no  False            2    3.625   \n",
              "1  woman      False        C    Cherbourg   yes  False            2   35.642   \n",
              "2  woman      False  Unknown  Southampton   yes   True            1    7.925   \n",
              "3  woman      False        C  Southampton   yes  False            2   26.550   \n",
              "4    man       True  Unknown  Southampton    no   True            1    8.050   \n",
              "\n",
              "    age_group  \n",
              "0  YoungAdult  \n",
              "1      MidAge  \n",
              "2  YoungAdult  \n",
              "3  YoungAdult  \n",
              "4  YoungAdult  "
            ],
            "text/html": [
              "\n",
              "  <div id=\"df-b81ffcc5-20d9-4c36-94a0-33181635162d\" class=\"colab-df-container\">\n",
              "    <div>\n",
              "<style scoped>\n",
              "    .dataframe tbody tr th:only-of-type {\n",
              "        vertical-align: middle;\n",
              "    }\n",
              "\n",
              "    .dataframe tbody tr th {\n",
              "        vertical-align: top;\n",
              "    }\n",
              "\n",
              "    .dataframe thead th {\n",
              "        text-align: right;\n",
              "    }\n",
              "</style>\n",
              "<table border=\"1\" class=\"dataframe\">\n",
              "  <thead>\n",
              "    <tr style=\"text-align: right;\">\n",
              "      <th></th>\n",
              "      <th>survived</th>\n",
              "      <th>pclass</th>\n",
              "      <th>sex</th>\n",
              "      <th>age</th>\n",
              "      <th>sibsp</th>\n",
              "      <th>parch</th>\n",
              "      <th>fare</th>\n",
              "      <th>embarked</th>\n",
              "      <th>class</th>\n",
              "      <th>who</th>\n",
              "      <th>adult_male</th>\n",
              "      <th>deck</th>\n",
              "      <th>embark_town</th>\n",
              "      <th>alive</th>\n",
              "      <th>alone</th>\n",
              "      <th>family_size</th>\n",
              "      <th>fare_pp</th>\n",
              "      <th>age_group</th>\n",
              "    </tr>\n",
              "  </thead>\n",
              "  <tbody>\n",
              "    <tr>\n",
              "      <th>0</th>\n",
              "      <td>0</td>\n",
              "      <td>3</td>\n",
              "      <td>male</td>\n",
              "      <td>22.0</td>\n",
              "      <td>1</td>\n",
              "      <td>0</td>\n",
              "      <td>7.250</td>\n",
              "      <td>S</td>\n",
              "      <td>Third</td>\n",
              "      <td>man</td>\n",
              "      <td>True</td>\n",
              "      <td>Unknown</td>\n",
              "      <td>Southampton</td>\n",
              "      <td>no</td>\n",
              "      <td>False</td>\n",
              "      <td>2</td>\n",
              "      <td>3.625</td>\n",
              "      <td>YoungAdult</td>\n",
              "    </tr>\n",
              "    <tr>\n",
              "      <th>1</th>\n",
              "      <td>1</td>\n",
              "      <td>1</td>\n",
              "      <td>female</td>\n",
              "      <td>38.0</td>\n",
              "      <td>1</td>\n",
              "      <td>0</td>\n",
              "      <td>71.283</td>\n",
              "      <td>C</td>\n",
              "      <td>First</td>\n",
              "      <td>woman</td>\n",
              "      <td>False</td>\n",
              "      <td>C</td>\n",
              "      <td>Cherbourg</td>\n",
              "      <td>yes</td>\n",
              "      <td>False</td>\n",
              "      <td>2</td>\n",
              "      <td>35.642</td>\n",
              "      <td>MidAge</td>\n",
              "    </tr>\n",
              "    <tr>\n",
              "      <th>2</th>\n",
              "      <td>1</td>\n",
              "      <td>3</td>\n",
              "      <td>female</td>\n",
              "      <td>26.0</td>\n",
              "      <td>0</td>\n",
              "      <td>0</td>\n",
              "      <td>7.925</td>\n",
              "      <td>S</td>\n",
              "      <td>Third</td>\n",
              "      <td>woman</td>\n",
              "      <td>False</td>\n",
              "      <td>Unknown</td>\n",
              "      <td>Southampton</td>\n",
              "      <td>yes</td>\n",
              "      <td>True</td>\n",
              "      <td>1</td>\n",
              "      <td>7.925</td>\n",
              "      <td>YoungAdult</td>\n",
              "    </tr>\n",
              "    <tr>\n",
              "      <th>3</th>\n",
              "      <td>1</td>\n",
              "      <td>1</td>\n",
              "      <td>female</td>\n",
              "      <td>35.0</td>\n",
              "      <td>1</td>\n",
              "      <td>0</td>\n",
              "      <td>53.100</td>\n",
              "      <td>S</td>\n",
              "      <td>First</td>\n",
              "      <td>woman</td>\n",
              "      <td>False</td>\n",
              "      <td>C</td>\n",
              "      <td>Southampton</td>\n",
              "      <td>yes</td>\n",
              "      <td>False</td>\n",
              "      <td>2</td>\n",
              "      <td>26.550</td>\n",
              "      <td>YoungAdult</td>\n",
              "    </tr>\n",
              "    <tr>\n",
              "      <th>4</th>\n",
              "      <td>0</td>\n",
              "      <td>3</td>\n",
              "      <td>male</td>\n",
              "      <td>35.0</td>\n",
              "      <td>0</td>\n",
              "      <td>0</td>\n",
              "      <td>8.050</td>\n",
              "      <td>S</td>\n",
              "      <td>Third</td>\n",
              "      <td>man</td>\n",
              "      <td>True</td>\n",
              "      <td>Unknown</td>\n",
              "      <td>Southampton</td>\n",
              "      <td>no</td>\n",
              "      <td>True</td>\n",
              "      <td>1</td>\n",
              "      <td>8.050</td>\n",
              "      <td>YoungAdult</td>\n",
              "    </tr>\n",
              "  </tbody>\n",
              "</table>\n",
              "</div>\n",
              "    <div class=\"colab-df-buttons\">\n",
              "\n",
              "  <div class=\"colab-df-container\">\n",
              "    <button class=\"colab-df-convert\" onclick=\"convertToInteractive('df-b81ffcc5-20d9-4c36-94a0-33181635162d')\"\n",
              "            title=\"Convert this dataframe to an interactive table.\"\n",
              "            style=\"display:none;\">\n",
              "\n",
              "  <svg xmlns=\"http://www.w3.org/2000/svg\" height=\"24px\" viewBox=\"0 -960 960 960\">\n",
              "    <path d=\"M120-120v-720h720v720H120Zm60-500h600v-160H180v160Zm220 220h160v-160H400v160Zm0 220h160v-160H400v160ZM180-400h160v-160H180v160Zm440 0h160v-160H620v160ZM180-180h160v-160H180v160Zm440 0h160v-160H620v160Z\"/>\n",
              "  </svg>\n",
              "    </button>\n",
              "\n",
              "  <style>\n",
              "    .colab-df-container {\n",
              "      display:flex;\n",
              "      gap: 12px;\n",
              "    }\n",
              "\n",
              "    .colab-df-convert {\n",
              "      background-color: #E8F0FE;\n",
              "      border: none;\n",
              "      border-radius: 50%;\n",
              "      cursor: pointer;\n",
              "      display: none;\n",
              "      fill: #1967D2;\n",
              "      height: 32px;\n",
              "      padding: 0 0 0 0;\n",
              "      width: 32px;\n",
              "    }\n",
              "\n",
              "    .colab-df-convert:hover {\n",
              "      background-color: #E2EBFA;\n",
              "      box-shadow: 0px 1px 2px rgba(60, 64, 67, 0.3), 0px 1px 3px 1px rgba(60, 64, 67, 0.15);\n",
              "      fill: #174EA6;\n",
              "    }\n",
              "\n",
              "    .colab-df-buttons div {\n",
              "      margin-bottom: 4px;\n",
              "    }\n",
              "\n",
              "    [theme=dark] .colab-df-convert {\n",
              "      background-color: #3B4455;\n",
              "      fill: #D2E3FC;\n",
              "    }\n",
              "\n",
              "    [theme=dark] .colab-df-convert:hover {\n",
              "      background-color: #434B5C;\n",
              "      box-shadow: 0px 1px 3px 1px rgba(0, 0, 0, 0.15);\n",
              "      filter: drop-shadow(0px 1px 2px rgba(0, 0, 0, 0.3));\n",
              "      fill: #FFFFFF;\n",
              "    }\n",
              "  </style>\n",
              "\n",
              "    <script>\n",
              "      const buttonEl =\n",
              "        document.querySelector('#df-b81ffcc5-20d9-4c36-94a0-33181635162d button.colab-df-convert');\n",
              "      buttonEl.style.display =\n",
              "        google.colab.kernel.accessAllowed ? 'block' : 'none';\n",
              "\n",
              "      async function convertToInteractive(key) {\n",
              "        const element = document.querySelector('#df-b81ffcc5-20d9-4c36-94a0-33181635162d');\n",
              "        const dataTable =\n",
              "          await google.colab.kernel.invokeFunction('convertToInteractive',\n",
              "                                                    [key], {});\n",
              "        if (!dataTable) return;\n",
              "\n",
              "        const docLinkHtml = 'Like what you see? Visit the ' +\n",
              "          '<a target=\"_blank\" href=https://colab.research.google.com/notebooks/data_table.ipynb>data table notebook</a>'\n",
              "          + ' to learn more about interactive tables.';\n",
              "        element.innerHTML = '';\n",
              "        dataTable['output_type'] = 'display_data';\n",
              "        await google.colab.output.renderOutput(dataTable, element);\n",
              "        const docLink = document.createElement('div');\n",
              "        docLink.innerHTML = docLinkHtml;\n",
              "        element.appendChild(docLink);\n",
              "      }\n",
              "    </script>\n",
              "  </div>\n",
              "\n",
              "\n",
              "    <div id=\"df-f588da33-bdb4-4c6e-b1c0-31a44f4575bf\">\n",
              "      <button class=\"colab-df-quickchart\" onclick=\"quickchart('df-f588da33-bdb4-4c6e-b1c0-31a44f4575bf')\"\n",
              "                title=\"Suggest charts\"\n",
              "                style=\"display:none;\">\n",
              "\n",
              "<svg xmlns=\"http://www.w3.org/2000/svg\" height=\"24px\"viewBox=\"0 0 24 24\"\n",
              "     width=\"24px\">\n",
              "    <g>\n",
              "        <path d=\"M19 3H5c-1.1 0-2 .9-2 2v14c0 1.1.9 2 2 2h14c1.1 0 2-.9 2-2V5c0-1.1-.9-2-2-2zM9 17H7v-7h2v7zm4 0h-2V7h2v10zm4 0h-2v-4h2v4z\"/>\n",
              "    </g>\n",
              "</svg>\n",
              "      </button>\n",
              "\n",
              "<style>\n",
              "  .colab-df-quickchart {\n",
              "      --bg-color: #E8F0FE;\n",
              "      --fill-color: #1967D2;\n",
              "      --hover-bg-color: #E2EBFA;\n",
              "      --hover-fill-color: #174EA6;\n",
              "      --disabled-fill-color: #AAA;\n",
              "      --disabled-bg-color: #DDD;\n",
              "  }\n",
              "\n",
              "  [theme=dark] .colab-df-quickchart {\n",
              "      --bg-color: #3B4455;\n",
              "      --fill-color: #D2E3FC;\n",
              "      --hover-bg-color: #434B5C;\n",
              "      --hover-fill-color: #FFFFFF;\n",
              "      --disabled-bg-color: #3B4455;\n",
              "      --disabled-fill-color: #666;\n",
              "  }\n",
              "\n",
              "  .colab-df-quickchart {\n",
              "    background-color: var(--bg-color);\n",
              "    border: none;\n",
              "    border-radius: 50%;\n",
              "    cursor: pointer;\n",
              "    display: none;\n",
              "    fill: var(--fill-color);\n",
              "    height: 32px;\n",
              "    padding: 0;\n",
              "    width: 32px;\n",
              "  }\n",
              "\n",
              "  .colab-df-quickchart:hover {\n",
              "    background-color: var(--hover-bg-color);\n",
              "    box-shadow: 0 1px 2px rgba(60, 64, 67, 0.3), 0 1px 3px 1px rgba(60, 64, 67, 0.15);\n",
              "    fill: var(--button-hover-fill-color);\n",
              "  }\n",
              "\n",
              "  .colab-df-quickchart-complete:disabled,\n",
              "  .colab-df-quickchart-complete:disabled:hover {\n",
              "    background-color: var(--disabled-bg-color);\n",
              "    fill: var(--disabled-fill-color);\n",
              "    box-shadow: none;\n",
              "  }\n",
              "\n",
              "  .colab-df-spinner {\n",
              "    border: 2px solid var(--fill-color);\n",
              "    border-color: transparent;\n",
              "    border-bottom-color: var(--fill-color);\n",
              "    animation:\n",
              "      spin 1s steps(1) infinite;\n",
              "  }\n",
              "\n",
              "  @keyframes spin {\n",
              "    0% {\n",
              "      border-color: transparent;\n",
              "      border-bottom-color: var(--fill-color);\n",
              "      border-left-color: var(--fill-color);\n",
              "    }\n",
              "    20% {\n",
              "      border-color: transparent;\n",
              "      border-left-color: var(--fill-color);\n",
              "      border-top-color: var(--fill-color);\n",
              "    }\n",
              "    30% {\n",
              "      border-color: transparent;\n",
              "      border-left-color: var(--fill-color);\n",
              "      border-top-color: var(--fill-color);\n",
              "      border-right-color: var(--fill-color);\n",
              "    }\n",
              "    40% {\n",
              "      border-color: transparent;\n",
              "      border-right-color: var(--fill-color);\n",
              "      border-top-color: var(--fill-color);\n",
              "    }\n",
              "    60% {\n",
              "      border-color: transparent;\n",
              "      border-right-color: var(--fill-color);\n",
              "    }\n",
              "    80% {\n",
              "      border-color: transparent;\n",
              "      border-right-color: var(--fill-color);\n",
              "      border-bottom-color: var(--fill-color);\n",
              "    }\n",
              "    90% {\n",
              "      border-color: transparent;\n",
              "      border-bottom-color: var(--fill-color);\n",
              "    }\n",
              "  }\n",
              "</style>\n",
              "\n",
              "      <script>\n",
              "        async function quickchart(key) {\n",
              "          const quickchartButtonEl =\n",
              "            document.querySelector('#' + key + ' button');\n",
              "          quickchartButtonEl.disabled = true;  // To prevent multiple clicks.\n",
              "          quickchartButtonEl.classList.add('colab-df-spinner');\n",
              "          try {\n",
              "            const charts = await google.colab.kernel.invokeFunction(\n",
              "                'suggestCharts', [key], {});\n",
              "          } catch (error) {\n",
              "            console.error('Error during call to suggestCharts:', error);\n",
              "          }\n",
              "          quickchartButtonEl.classList.remove('colab-df-spinner');\n",
              "          quickchartButtonEl.classList.add('colab-df-quickchart-complete');\n",
              "        }\n",
              "        (() => {\n",
              "          let quickchartButtonEl =\n",
              "            document.querySelector('#df-f588da33-bdb4-4c6e-b1c0-31a44f4575bf button');\n",
              "          quickchartButtonEl.style.display =\n",
              "            google.colab.kernel.accessAllowed ? 'block' : 'none';\n",
              "        })();\n",
              "      </script>\n",
              "    </div>\n",
              "\n",
              "    </div>\n",
              "  </div>\n"
            ],
            "application/vnd.google.colaboratory.intrinsic+json": {
              "type": "dataframe",
              "variable_name": "df",
              "summary": "{\n  \"name\": \"df\",\n  \"rows\": 891,\n  \"fields\": [\n    {\n      \"column\": \"survived\",\n      \"properties\": {\n        \"dtype\": \"number\",\n        \"std\": 0,\n        \"min\": 0,\n        \"max\": 1,\n        \"num_unique_values\": 2,\n        \"samples\": [\n          1,\n          0\n        ],\n        \"semantic_type\": \"\",\n        \"description\": \"\"\n      }\n    },\n    {\n      \"column\": \"pclass\",\n      \"properties\": {\n        \"dtype\": \"number\",\n        \"std\": 0,\n        \"min\": 1,\n        \"max\": 3,\n        \"num_unique_values\": 3,\n        \"samples\": [\n          3,\n          1\n        ],\n        \"semantic_type\": \"\",\n        \"description\": \"\"\n      }\n    },\n    {\n      \"column\": \"sex\",\n      \"properties\": {\n        \"dtype\": \"category\",\n        \"num_unique_values\": 2,\n        \"samples\": [\n          \"female\",\n          \"male\"\n        ],\n        \"semantic_type\": \"\",\n        \"description\": \"\"\n      }\n    },\n    {\n      \"column\": \"age\",\n      \"properties\": {\n        \"dtype\": \"number\",\n        \"std\": 13.304424074688153,\n        \"min\": 0.42,\n        \"max\": 80.0,\n        \"num_unique_values\": 89,\n        \"samples\": [\n          59.0,\n          36.5\n        ],\n        \"semantic_type\": \"\",\n        \"description\": \"\"\n      }\n    },\n    {\n      \"column\": \"sibsp\",\n      \"properties\": {\n        \"dtype\": \"number\",\n        \"std\": 1,\n        \"min\": 0,\n        \"max\": 8,\n        \"num_unique_values\": 7,\n        \"samples\": [\n          1,\n          0\n        ],\n        \"semantic_type\": \"\",\n        \"description\": \"\"\n      }\n    },\n    {\n      \"column\": \"parch\",\n      \"properties\": {\n        \"dtype\": \"number\",\n        \"std\": 0,\n        \"min\": 0,\n        \"max\": 6,\n        \"num_unique_values\": 7,\n        \"samples\": [\n          0,\n          1\n        ],\n        \"semantic_type\": \"\",\n        \"description\": \"\"\n      }\n    },\n    {\n      \"column\": \"fare\",\n      \"properties\": {\n        \"dtype\": \"number\",\n        \"std\": 49.693428597180905,\n        \"min\": 0.0,\n        \"max\": 512.3292,\n        \"num_unique_values\": 248,\n        \"samples\": [\n          11.2417,\n          51.8625\n        ],\n        \"semantic_type\": \"\",\n        \"description\": \"\"\n      }\n    },\n    {\n      \"column\": \"embarked\",\n      \"properties\": {\n        \"dtype\": \"category\",\n        \"num_unique_values\": 3,\n        \"samples\": [\n          \"S\",\n          \"C\"\n        ],\n        \"semantic_type\": \"\",\n        \"description\": \"\"\n      }\n    },\n    {\n      \"column\": \"class\",\n      \"properties\": {\n        \"dtype\": \"category\",\n        \"num_unique_values\": 3,\n        \"samples\": [\n          \"Third\",\n          \"First\"\n        ],\n        \"semantic_type\": \"\",\n        \"description\": \"\"\n      }\n    },\n    {\n      \"column\": \"who\",\n      \"properties\": {\n        \"dtype\": \"category\",\n        \"num_unique_values\": 3,\n        \"samples\": [\n          \"man\",\n          \"woman\"\n        ],\n        \"semantic_type\": \"\",\n        \"description\": \"\"\n      }\n    },\n    {\n      \"column\": \"adult_male\",\n      \"properties\": {\n        \"dtype\": \"category\",\n        \"num_unique_values\": 2,\n        \"samples\": [\n          false,\n          true\n        ],\n        \"semantic_type\": \"\",\n        \"description\": \"\"\n      }\n    },\n    {\n      \"column\": \"deck\",\n      \"properties\": {\n        \"dtype\": \"category\",\n        \"num_unique_values\": 8,\n        \"samples\": [\n          \"C\",\n          \"A\"\n        ],\n        \"semantic_type\": \"\",\n        \"description\": \"\"\n      }\n    },\n    {\n      \"column\": \"embark_town\",\n      \"properties\": {\n        \"dtype\": \"category\",\n        \"num_unique_values\": 3,\n        \"samples\": [\n          \"Southampton\",\n          \"Cherbourg\"\n        ],\n        \"semantic_type\": \"\",\n        \"description\": \"\"\n      }\n    },\n    {\n      \"column\": \"alive\",\n      \"properties\": {\n        \"dtype\": \"category\",\n        \"num_unique_values\": 2,\n        \"samples\": [\n          \"yes\",\n          \"no\"\n        ],\n        \"semantic_type\": \"\",\n        \"description\": \"\"\n      }\n    },\n    {\n      \"column\": \"alone\",\n      \"properties\": {\n        \"dtype\": \"category\",\n        \"num_unique_values\": 2,\n        \"samples\": [\n          true,\n          false\n        ],\n        \"semantic_type\": \"\",\n        \"description\": \"\"\n      }\n    },\n    {\n      \"column\": \"family_size\",\n      \"properties\": {\n        \"dtype\": \"number\",\n        \"std\": 1,\n        \"min\": 1,\n        \"max\": 11,\n        \"num_unique_values\": 9,\n        \"samples\": [\n          8,\n          1\n        ],\n        \"semantic_type\": \"\",\n        \"description\": \"\"\n      }\n    },\n    {\n      \"column\": \"fare_pp\",\n      \"properties\": {\n        \"dtype\": \"number\",\n        \"std\": 35.84125730003693,\n        \"min\": 0.0,\n        \"max\": 512.3292,\n        \"num_unique_values\": 289,\n        \"samples\": [\n          4.6499999999999995,\n          6.2375\n        ],\n        \"semantic_type\": \"\",\n        \"description\": \"\"\n      }\n    },\n    {\n      \"column\": \"age_group\",\n      \"properties\": {\n        \"dtype\": \"category\",\n        \"num_unique_values\": 5,\n        \"samples\": [\n          \"MidAge\",\n          \"Teen\"\n        ],\n        \"semantic_type\": \"\",\n        \"description\": \"\"\n      }\n    }\n  ]\n}"
            }
          },
          "metadata": {},
          "execution_count": 7
        }
      ],
      "execution_count": null,
      "id": "5S0XnBI-XgQb"
    },
    {
      "cell_type": "markdown",
      "metadata": {
        "id": "F1YmFAOtXgQb"
      },
      "source": [
        "### ✅ Exercise A\n",
        "Check NaNs in `age`/`embark_town`, top `family_size`, % with `fare_pp>20`."
      ],
      "id": "F1YmFAOtXgQb"
    },
    {
      "cell_type": "markdown",
      "metadata": {
        "id": "oVP8R9aCXgQb"
      },
      "source": [
        "**Hints:**\n",
        "- Concept: impute & feature engineer.\n",
        "- API: `groupby().transform('median')`, `.mode()`, `.cut`.\n"
      ],
      "id": "oVP8R9aCXgQb"
    },
    {
      "cell_type": "code",
      "metadata": {
        "id": "7bfqV5duXgQb",
        "colab": {
          "base_uri": "https://localhost:8080/"
        },
        "outputId": "946b8bd9-2715-4dcc-8478-29cc599597eb"
      },
      "source": [
        "# YOUR WORK: Exercise A\n",
        "nan_check = df[['age', 'embark_town']].isna().sum()\n",
        "print(nan_check)\n",
        "family_size_check = df['family_size'].value_counts().head(1)\n",
        "print(family_size_check)\n",
        "fare_pp_check = (df['fare_pp'] > 20).mean()\n",
        "print(fare_pp_check)"
      ],
      "outputs": [
        {
          "output_type": "stream",
          "name": "stdout",
          "text": [
            "age            0\n",
            "embark_town    0\n",
            "dtype: int64\n",
            "family_size\n",
            "1    537\n",
            "Name: count, dtype: int64\n",
            "0.2536475869809203\n"
          ]
        }
      ],
      "execution_count": null,
      "id": "7bfqV5duXgQb"
    },
    {
      "cell_type": "markdown",
      "metadata": {
        "id": "FBrrEH2LXgQb"
      },
      "source": [
        "## B) Survival Patterns"
      ],
      "id": "FBrrEH2LXgQb"
    },
    {
      "cell_type": "code",
      "metadata": {
        "id": "4kV7nDMzXgQb"
      },
      "source": [
        "overall_survival = df['survived'].mean(); print('Overall survival rate:', round(overall_survival,3))"
      ],
      "outputs": [],
      "execution_count": null,
      "id": "4kV7nDMzXgQb"
    },
    {
      "cell_type": "code",
      "metadata": {
        "id": "7scgRhgcXgQb"
      },
      "source": [
        "surv_by_class = df.groupby('class')['survived'].mean().reindex(['First','Second','Third'])\n",
        "plt.figure(); plt.bar(surv_by_class.index.astype(str), surv_by_class.values)\n",
        "plt.title('Survival Rate by Class'); plt.xlabel('class'); plt.ylabel('survival rate'); plt.show()"
      ],
      "outputs": [],
      "execution_count": null,
      "id": "7scgRhgcXgQb"
    },
    {
      "cell_type": "code",
      "metadata": {
        "id": "rGy20wtsXgQb"
      },
      "source": [
        "piv = df.pivot_table(index='sex', columns='class', values='survived', aggfunc='mean')\n",
        "plt.figure(); plt.imshow(piv.values, aspect='auto')\n",
        "plt.title('Survival Rate by Sex × Class'); plt.xlabel('class'); plt.ylabel('sex')\n",
        "plt.xticks(range(len(piv.columns)), piv.columns.astype(str))\n",
        "plt.yticks(range(len(piv.index)), piv.index.astype(str))\n",
        "plt.colorbar(); plt.show(); piv"
      ],
      "outputs": [],
      "execution_count": null,
      "id": "rGy20wtsXgQb"
    },
    {
      "cell_type": "markdown",
      "metadata": {
        "id": "tkURGlSWXgQb"
      },
      "source": [
        "### ✅ Exercise B\n",
        "1) Histogram of age. 2) Boxplot fare by class. 3) Bar of survival by age_group."
      ],
      "id": "tkURGlSWXgQb"
    },
    {
      "cell_type": "markdown",
      "metadata": {
        "id": "pn2IREdIXgQc"
      },
      "source": [
        "**Hints:**\n",
        "- Concept: univariate + grouped visuals.\n",
        "- API: `plt.hist`, `plt.boxplot`, `groupby().mean` + `plt.bar`.\n"
      ],
      "id": "pn2IREdIXgQc"
    },
    {
      "cell_type": "code",
      "metadata": {
        "id": "z44XvNI8XgQc",
        "colab": {
          "base_uri": "https://localhost:8080/",
          "height": 1000
        },
        "outputId": "3c211e84-ff59-4736-ffc1-4a82dc0836f6"
      },
      "source": [
        "# YOUR WORK: Exercise B\n",
        "plt.hist(df['age'], bins=20, edgecolor='black', alpha=0.7)\n",
        "plt.title('Age Distribution')\n",
        "plt.xlabel('Age')\n",
        "plt.ylabel('Frequency')\n",
        "plt.show()\n",
        "df.boxplot(column='fare', by='class', grid=False)\n",
        "plt.title('Fare by Class')\n",
        "plt.xlabel('Class')\n",
        "plt.ylabel('Fare')\n",
        "plt.show()\n",
        "survival_by_age = df.groupby('age_group')['survived'].mean()\n",
        "plt.bar(survival_by_age.index, survival_by_age.values)\n",
        "plt.title('Survival Rate by Age Group')\n",
        "plt.xlabel('Age Group')\n",
        "plt.ylabel('Survival Rate')\n",
        "plt.show()"
      ],
      "outputs": [
        {
          "output_type": "display_data",
          "data": {
            "text/plain": [
              "<Figure size 640x480 with 1 Axes>"
            ],
            "image/png": "[encoded data removed]"
          },
          "metadata": {}
        },
        {
          "output_type": "display_data",
          "data": {
            "text/plain": [
              "<Figure size 640x480 with 1 Axes>"
            ],
            "image/png": "[encoded data removed]"
          },
          "metadata": {}
        },
        {
          "output_type": "stream",
          "name": "stderr",
          "text": [
            "/tmp/ipython-input-196811314.py:12: FutureWarning: The default of observed=False is deprecated and will be changed to True in a future version of pandas. Pass observed=False to retain current behavior or observed=True to adopt the future default and silence this warning.\n",
            "  survival_by_age = df.groupby('age_group')['survived'].mean()\n"
          ]
        },
        {
          "output_type": "display_data",
          "data": {
            "text/plain": [
              "<Figure size 640x480 with 1 Axes>"
            ],
            "image/png": "[encoded data removed]"
          },
          "metadata": {}
        }
      ],
      "execution_count": null,
      "id": "z44XvNI8XgQc"
    },
    {
      "cell_type": "markdown",
      "metadata": {
        "id": "Ereb9r-QXgQc"
      },
      "source": [
        "## C) Subgroup Discovery"
      ],
      "id": "Ereb9r-QXgQc"
    },
    {
      "cell_type": "code",
      "metadata": {
        "id": "UsnCWW2NXgQc"
      },
      "source": [
        "grp = (df.groupby(['sex','class','embark_town'])\n",
        "         .agg(n=('survived','size'), surv_rate=('survived','mean'))\n",
        "         .query('n >= 25')\n",
        "         .sort_values('surv_rate', ascending=False))\n",
        "grp.head(10)"
      ],
      "outputs": [],
      "execution_count": null,
      "id": "UsnCWW2NXgQc"
    },
    {
      "cell_type": "markdown",
      "metadata": {
        "id": "yvzvH1yUXgQc"
      },
      "source": [
        "### ✅ Exercise C\n",
        "Families with `family_size≥4`: survival by `sex` & `class` (n + rate). Bucket `fare_pp` and compute survival per bucket."
      ],
      "id": "yvzvH1yUXgQc"
    },
    {
      "cell_type": "markdown",
      "metadata": {
        "id": "OebJxysVXgQc"
      },
      "source": [
        "**Hints:**\n",
        "- Concept: subgroup analysis with thresholds.\n",
        "- API: `groupby().agg`, `query`, `cut`.\n"
      ],
      "id": "OebJxysVXgQc"
    },
    {
      "cell_type": "code",
      "metadata": {
        "id": "bs34VlfZXgQc",
        "colab": {
          "base_uri": "https://localhost:8080/"
        },
        "outputId": "5c10c4dd-f3c4-4fc1-ec24-4918cf4a4dc9"
      },
      "source": [
        "# YOUR WORK: Exercise C\n",
        "family_survival = df.query('family_size >= 4')\n",
        "family_survival_stats = family_survival.groupby(['sex', 'class']).agg(n=('survived', 'size'), surv_rate=('survived', 'mean'))\n",
        "print(family_survival_stats)\n",
        "fare_pp_bins = [0, 10, 20, 30, 50, np.inf]\n",
        "df['fare_pp_bucket'] = pd.cut(df['fare_pp'], bins=fare_pp_bins)\n",
        "fare_pp_survival = df.groupby('fare_pp_bucket')['survived'].mean()\n",
        "print(fare_pp_survival)\n"
      ],
      "outputs": [
        {
          "output_type": "stream",
          "name": "stdout",
          "text": [
            "                n  surv_rate\n",
            "sex    class                \n",
            "female First    8      0.750\n",
            "       Second  11      1.000\n",
            "       Third   33      0.242\n",
            "male   First    5      0.600\n",
            "       Second   4      0.250\n",
            "       Third   30      0.067\n",
            "fare_pp_bucket\n",
            "(0.0, 10.0]     0.278\n",
            "(10.0, 20.0]    0.431\n",
            "(20.0, 30.0]    0.562\n",
            "(30.0, 50.0]    0.549\n",
            "(50.0, inf]     0.727\n",
            "Name: survived, dtype: float64\n"
          ]
        },
        {
          "output_type": "stream",
          "name": "stderr",
          "text": [
            "/tmp/ipython-input-3492148447.py:3: FutureWarning: The default of observed=False is deprecated and will be changed to True in a future version of pandas. Pass observed=False to retain current behavior or observed=True to adopt the future default and silence this warning.\n",
            "  family_survival_stats = family_survival.groupby(['sex', 'class']).agg(n=('survived', 'size'), surv_rate=('survived', 'mean'))\n",
            "/tmp/ipython-input-3492148447.py:7: FutureWarning: The default of observed=False is deprecated and will be changed to True in a future version of pandas. Pass observed=False to retain current behavior or observed=True to adopt the future default and silence this warning.\n",
            "  fare_pp_survival = df.groupby('fare_pp_bucket')['survived'].mean()\n"
          ]
        }
      ],
      "execution_count": null,
      "id": "bs34VlfZXgQc"
    },
    {
      "cell_type": "markdown",
      "metadata": {
        "id": "OKMsRjOLXgQc"
      },
      "source": [
        "## D) Deliverables"
      ],
      "id": "OKMsRjOLXgQc"
    },
    {
      "cell_type": "code",
      "metadata": {
        "id": "CjHriqjUXgQc"
      },
      "source": [
        "top10 = grp.head(10).reset_index()\n",
        "sty = (top10.style.format({'surv_rate':'{:.2%}'}).hide(axis='index'))\n",
        "html = sty.to_html()\n",
        "open('titanic_top10_survival.html','w',encoding='utf-8').write(html)\n",
        "top10.to_csv('titanic_top10_survival.csv', index=False)\n",
        "\"Saved titanic_top10_survival.html and titanic_top10_survival.csv\""
      ],
      "outputs": [],
      "execution_count": null,
      "id": "CjHriqjUXgQc"
    },
    {
      "cell_type": "markdown",
      "metadata": {
        "id": "lf1-3A-2XgQc"
      },
      "source": [
        "### ✍️ Analysis (Capstone — Titanic) — 3–5 sentences\n",
        "- State your main finding (who/when/context) with one number and one plot reference.\n",
        "- Name one limitation in your approach (bias, leakage, imputation).\n",
        "- Suggest a next step or feature to add.\n",
        "\n",
        "### 🔎 Quick checks\n",
        "- Link the exact cell/table backing your claim.\n",
        "- Confirm deliverables (HTML + CSV) were written.\n",
        "\n",
        "### ➕ Extension (pick one)\n",
        "- Add an extra feature (e.g., `is_child`, z-scored fare) and see if subgroup ranking changes.\n",
        "- Try a different minimum group size and discuss stability.\n",
        "\n",
        "**Rubric (10 pts):** Correctness 3 • Evidence 2 • Clarity 2 • Reproducibility 2 • Exploration 1"
      ],
      "id": "lf1-3A-2XgQc"
    }
  ],
  "metadata": {
    "colab": {
      "provenance": []
    },
    "kernelspec": {
      "display_name": "Python 3",
      "language": "python",
      "name": "python3"
    },
    "language_info": {
      "name": "python",
      "pygments_lexer": "ipython3"
    }
  },
  "nbformat": 4,
  "nbformat_minor": 5
}