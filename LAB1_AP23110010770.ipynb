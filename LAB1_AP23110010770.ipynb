{
  "cells": [
    {
      "cell_type": "markdown",
      "id": "20dc80e4",
      "metadata": {
        "id": "20dc80e4"
      },
      "source": [
        "# 🧑‍💻 NumPy Complete Guided Project\n",
        "**Instructor / Student Colab Notebook** – covers *all* key concepts from `Numpy‑1` to `Numpy‑5`.\n",
        "\n",
        "*Generated: 08 Aug 2025*"
      ]
    },
    {
      "cell_type": "markdown",
      "id": "e8b8b6cf",
      "metadata": {
        "id": "e8b8b6cf"
      },
      "source": [
        "\n",
        "**Table of Contents**\n",
        "\n",
        "1. [Setup](#setup)  \n",
        "2. [Array Creation & Dtypes](#creation)  \n",
        "3. [Array Attributes & Inspection](#attributes)  \n",
        "4. [Indexing, Slicing, Fancy Indexing](#indexing)  \n",
        "5. [Reshaping, Transpose & Copies vs Views](#reshape)  \n",
        "6. [Joining, Splitting, Set & Sorting Ops](#join)  \n",
        "7. [Arithmetic Ops, Universal Functions](#arithmetic)  \n",
        "8. [Broadcasting (Rules + Examples)](#broadcast)  \n",
        "9. [Statistics & Aggregations](#stats)  \n",
        "10. [Random Numbers & Reproducibility](#random)  \n",
        "11. [Structured / Recarrays](#structured)  \n",
        "12. [Linear Algebra Essentials](#linalg)  \n",
        "13. [File I/O (`npy`, `npz`, `txt`)](#io)  \n",
        "14. [Datetime64 & Timedelta64](#datetime)  \n",
        "15. [Masked Arrays & NaNs](#mask)  \n",
        "16. [Mini‑Project — Fitness Data Analysis](#project)  \n",
        "17. [Conclusion & Next Steps](#conclusion)  \n"
      ]
    },
    {
      "cell_type": "markdown",
      "id": "9170f3ee",
      "metadata": {
        "id": "9170f3ee"
      },
      "source": [
        "## <a name='setup'></a>1️⃣ Setup"
      ]
    },
    {
      "cell_type": "code",
      "execution_count": 2,
      "id": "4f54988f",
      "metadata": {
        "colab": {
          "base_uri": "https://localhost:8080/"
        },
        "id": "4f54988f",
        "outputId": "ea3694cb-a479-45f0-da5f-fd771d47d0d6"
      },
      "outputs": [
        {
          "output_type": "stream",
          "name": "stdout",
          "text": [
            "NumPy version: 2.0.2\n"
          ]
        }
      ],
      "source": [
        "import numpy as np, math, os, pathlib, types, textwrap, random\n",
        "print('NumPy version:', np.__version__)"
      ]
    },
    {
      "cell_type": "markdown",
      "id": "c7f7b2c8",
      "metadata": {
        "id": "c7f7b2c8"
      },
      "source": [
        "## <a name='creation'></a>2️⃣ Array Creation & Dtypes"
      ]
    },
    {
      "cell_type": "markdown",
      "id": "47405152",
      "metadata": {
        "id": "47405152"
      },
      "source": [
        "Key functions: `np.array`, `np.arange`, `np.linspace`, `zeros`, `ones`, `full`, `eye`, `identity`, `diag`, `empty`"
      ]
    },
    {
      "cell_type": "code",
      "execution_count": 3,
      "id": "801e99ad",
      "metadata": {
        "colab": {
          "base_uri": "https://localhost:8080/"
        },
        "id": "801e99ad",
        "outputId": "4a7f99d1-48bf-4d83-9831-bfdf5ac17d2a"
      },
      "outputs": [
        {
          "output_type": "stream",
          "name": "stdout",
          "text": [
            "[1 2 3]\n",
            "[0.  0.2 0.4 0.6 0.8 1. ]\n",
            "[[7.5 7.5 7.5]\n",
            " [7.5 7.5 7.5]]\n",
            "dtypes: int32 float64\n"
          ]
        }
      ],
      "source": [
        "# EXAMPLE\n",
        "arr1 = np.array([1, 2, 3], dtype=np.int32)\n",
        "arr2 = np.linspace(0, 1, 6)\n",
        "arr3 = np.full((2,3), 7.5)\n",
        "print(arr1, arr2, arr3, sep=\"\\n\")\n",
        "print(\"dtypes:\", arr1.dtype, arr2.dtype)\n"
      ]
    },
    {
      "cell_type": "code",
      "execution_count": 20,
      "id": "dc63d076",
      "metadata": {
        "colab": {
          "base_uri": "https://localhost:8080/"
        },
        "id": "dc63d076",
        "outputId": "9f053095-2463-4b80-f743-475a67b2515a"
      },
      "outputs": [
        {
          "output_type": "stream",
          "name": "stdout",
          "text": [
            "[[0 1 0 1 0 1 0 1 0 1]\n",
            " [1 0 1 0 1 0 1 0 1 0]\n",
            " [0 1 0 1 0 1 0 1 0 1]\n",
            " [1 0 1 0 1 0 1 0 1 0]\n",
            " [0 1 0 1 0 1 0 1 0 1]\n",
            " [1 0 1 0 1 0 1 0 1 0]\n",
            " [0 1 0 1 0 1 0 1 0 1]\n",
            " [1 0 1 0 1 0 1 0 1 0]\n",
            " [0 1 0 1 0 1 0 1 0 1]\n",
            " [1 0 1 0 1 0 1 0 1 0]]\n"
          ]
        }
      ],
      "source": [
        "# 🖊️ TODO: create a 10×10 chessboard pattern using zeros & ones\n",
        "a1=np.ones((10,10),dtype=np.int32)\n",
        "a1[::2,0::2]=0\n",
        "a1[1::2,1::2]=0\n",
        "print(a1)\n"
      ]
    },
    {
      "cell_type": "markdown",
      "id": "925be762",
      "metadata": {
        "id": "925be762"
      },
      "source": [
        "## <a name='attributes'></a>3️⃣ Array Attributes & Inspection"
      ]
    },
    {
      "cell_type": "markdown",
      "id": "f103bb36",
      "metadata": {
        "id": "f103bb36"
      },
      "source": [
        "`shape`, `ndim`, `size`, `dtype`, `itemsize`, `nbytes`"
      ]
    },
    {
      "cell_type": "code",
      "execution_count": 17,
      "id": "ad3eeda1",
      "metadata": {
        "colab": {
          "base_uri": "https://localhost:8080/"
        },
        "id": "ad3eeda1",
        "outputId": "447771fc-baf5-418c-e15a-20eb1d3f5f2d"
      },
      "outputs": [
        {
          "output_type": "stream",
          "name": "stdout",
          "text": [
            "shape (3, 4) ndim 2 size 12 itemsize 8 total bytes 96\n"
          ]
        }
      ],
      "source": [
        "M = np.arange(12).reshape(3,4)\n",
        "print('shape', M.shape, 'ndim', M.ndim, 'size', M.size, 'itemsize', M.itemsize, 'total bytes', M.nbytes)\n"
      ]
    },
    {
      "cell_type": "code",
      "execution_count": 22,
      "id": "5875fefe",
      "metadata": {
        "colab": {
          "base_uri": "https://localhost:8080/"
        },
        "id": "5875fefe",
        "outputId": "769665db-2495-4698-d9aa-b174f178640e"
      },
      "outputs": [
        {
          "output_type": "stream",
          "name": "stdout",
          "text": [
            "shape (1000, 1000) ndim 2 size 1000000 itemsize 8 total bytes 8000000\n"
          ]
        }
      ],
      "source": [
        "# 🖊️ TODO: check memory footprint of a 1000×1000 float64 array\n",
        "M = np.arange(1000000).reshape(1000,1000)\n",
        "print('shape', M.shape, 'ndim', M.ndim, 'size', M.size, 'itemsize', M.itemsize, 'total bytes', M.nbytes)"
      ]
    },
    {
      "cell_type": "markdown",
      "id": "bd895660",
      "metadata": {
        "id": "bd895660"
      },
      "source": [
        "## <a name='indexing'></a>4️⃣ Indexing, Slicing & Fancy Indexing"
      ]
    },
    {
      "cell_type": "code",
      "execution_count": 21,
      "id": "5dc7d4c1",
      "metadata": {
        "colab": {
          "base_uri": "https://localhost:8080/"
        },
        "id": "5dc7d4c1",
        "outputId": "8070652b-f006-4b7f-8845-718306d7667d"
      },
      "outputs": [
        {
          "output_type": "stream",
          "name": "stdout",
          "text": [
            "[ 1  6 11 16 21]\n",
            "[[ 1  3  5]\n",
            " [11 13 15]\n",
            " [21 23 25]]\n",
            "multiples of 3: [ 3  6  9 12 15 18 21 24]\n"
          ]
        }
      ],
      "source": [
        "a = np.arange(1,26).reshape(5,5)\n",
        "print(a[:, 0])     # first column\n",
        "print(a[::2, ::2]) # every 2nd row/col\n",
        "mask = (a % 3 == 0)\n",
        "print('multiples of 3:', a[mask])\n"
      ]
    },
    {
      "cell_type": "code",
      "execution_count": 32,
      "id": "9c4bd5f4",
      "metadata": {
        "colab": {
          "base_uri": "https://localhost:8080/"
        },
        "id": "9c4bd5f4",
        "outputId": "d10def22-c4a4-4240-ed09-3e1013044044"
      },
      "outputs": [
        {
          "output_type": "stream",
          "name": "stdout",
          "text": [
            "[[ 1  2  3  4  5]\n",
            " [16 17 18 19 20]]\n",
            "[[21 22 23 24 25]\n",
            " [ 6  7  8  9 10]\n",
            " [11 12 13 14 15]\n",
            " [16 17 18 19 20]\n",
            " [ 1  2  3  4  5]]\n"
          ]
        }
      ],
      "source": [
        "# 🖊️ TODO: use fancy indexing to swap first and last rows of `a`\n",
        "a=np.arange(1,26).reshape(5,5)\n",
        "a[[0,4]]=a[[4,0]]\n",
        "print(a)"
      ]
    },
    {
      "cell_type": "markdown",
      "id": "8f4de1d5",
      "metadata": {
        "id": "8f4de1d5"
      },
      "source": [
        "## <a name='reshape'></a>5️⃣ Reshaping, Transpose & Copies vs Views"
      ]
    },
    {
      "cell_type": "code",
      "execution_count": 33,
      "id": "053b4ff4",
      "metadata": {
        "colab": {
          "base_uri": "https://localhost:8080/"
        },
        "id": "053b4ff4",
        "outputId": "32575fff-8a2e-479a-8ace-d7116253dd85"
      },
      "outputs": [
        {
          "output_type": "stream",
          "name": "stdout",
          "text": [
            "b is modified: [99  1  2  3  4  5  6  7]\n",
            "b unchanged with copy: [99  1  2  3  4  5  6  7]\n"
          ]
        }
      ],
      "source": [
        "b = np.arange(8)\n",
        "B = b.reshape(2,4)\n",
        "B[0,0] = 99\n",
        "print('b is modified:', b)\n",
        "C = b.reshape(2,4).copy()\n",
        "C[0,0] = -1\n",
        "print('b unchanged with copy:', b)\n"
      ]
    },
    {
      "cell_type": "code",
      "execution_count": 47,
      "id": "a3e599bd",
      "metadata": {
        "colab": {
          "base_uri": "https://localhost:8080/"
        },
        "id": "a3e599bd",
        "outputId": "ddf0f423-0fe8-43b2-fbba-b79cc75b0f7a"
      },
      "outputs": [
        {
          "output_type": "stream",
          "name": "stdout",
          "text": [
            "[ 0  1  2  3  4  5  6  7  8  9 10 11 12 13 14 15 16 17 18 19 20 21 22 23]\n",
            "[ 0  1  2  3  4  5  6  7  8  9 10 11 12 13 14 15 16 17 18 19 20 21 22 23]\n"
          ]
        }
      ],
      "source": [
        "# 🖊️ TODO: Flatten a 3‑D array into 1‑D using both `ravel` and `flatten`; observe copy vs view.\n",
        "b=np.arange(24).reshape(2,3,4)\n",
        "print(b.ravel())\n",
        "print(b.flatten())"
      ]
    },
    {
      "cell_type": "markdown",
      "id": "2390c4ae",
      "metadata": {
        "id": "2390c4ae"
      },
      "source": [
        "## <a name='join'></a>6️⃣ Joining, Splitting, Set & Sorting Ops"
      ]
    },
    {
      "cell_type": "code",
      "execution_count": null,
      "id": "a53f640a",
      "metadata": {
        "id": "a53f640a"
      },
      "outputs": [],
      "source": [
        "x = np.array([1,3,5]); y = np.array([2,4,6])\n",
        "xy = np.concatenate([x,y])\n",
        "print('union', np.union1d(x,y))\n",
        "print('intersect', np.intersect1d(xy,[1,2,10]))\n",
        "print('sorted descending', np.sort(xy)[::-1])\n"
      ]
    },
    {
      "cell_type": "code",
      "execution_count": 42,
      "id": "4231e729",
      "metadata": {
        "colab": {
          "base_uri": "https://localhost:8080/"
        },
        "id": "4231e729",
        "outputId": "8f74509a-766e-4d9e-a98e-e5f37007a66d"
      },
      "outputs": [
        {
          "output_type": "stream",
          "name": "stdout",
          "text": [
            "[array([1, 3, 5]), array([2, 4, 6])]\n"
          ]
        }
      ],
      "source": [
        "# 🖊️ TODO: split `xy` back into two equal halves using `np.array_split`\n",
        "x=np.array([1,3,5,2,4,6])\n",
        "print(np.array_split(x,2))"
      ]
    },
    {
      "cell_type": "markdown",
      "id": "e6ebeb68",
      "metadata": {
        "id": "e6ebeb68"
      },
      "source": [
        "## <a name='arithmetic'></a>7️⃣ Arithmetic Ops & Universal Functions"
      ]
    },
    {
      "cell_type": "code",
      "execution_count": 43,
      "id": "04a6eda9",
      "metadata": {
        "colab": {
          "base_uri": "https://localhost:8080/"
        },
        "id": "04a6eda9",
        "outputId": "0275b3ea-5910-40c4-c1b6-dc96bd84f76b"
      },
      "outputs": [
        {
          "output_type": "stream",
          "name": "stdout",
          "text": [
            "exp [ 1.          2.71828183  7.3890561  20.08553692 54.59815003]\n",
            "sin [ 0.          0.84147098  0.90929743  0.14112001 -0.7568025 ]\n",
            "vectorised addition [10 11 12 13 14]\n"
          ]
        }
      ],
      "source": [
        "v = np.arange(5)\n",
        "print('exp', np.exp(v))\n",
        "print('sin', np.sin(v))\n",
        "print('vectorised addition', v + 10)\n"
      ]
    },
    {
      "cell_type": "code",
      "execution_count": 46,
      "id": "c011f422",
      "metadata": {
        "colab": {
          "base_uri": "https://localhost:8080/"
        },
        "id": "c011f422",
        "outputId": "ce5aea02-c68b-4bbe-f8f7-80bcedf89438"
      },
      "outputs": [
        {
          "output_type": "stream",
          "name": "stdout",
          "text": [
            "[ 0.         -0.98803162  0.85090352 -0.30481062  0.89399666]\n"
          ]
        }
      ],
      "source": [
        "# 🖊️ TODO: given degrees [0,30,45,60,90], compute radians and sin values.\n",
        "v=np.array([0,30,45,60,90])\n",
        "print(np.sin(v))"
      ]
    },
    {
      "cell_type": "markdown",
      "id": "7c9a5d70",
      "metadata": {
        "id": "7c9a5d70"
      },
      "source": [
        "## <a name='broadcast'></a>8️⃣ Broadcasting Rules"
      ]
    },
    {
      "cell_type": "markdown",
      "id": "aba2764d",
      "metadata": {
        "id": "aba2764d"
      },
      "source": [
        "Rules: compare dimensions from right → left; stretch size 1 dims; mismatch error."
      ]
    },
    {
      "cell_type": "code",
      "execution_count": null,
      "id": "6313899c",
      "metadata": {
        "id": "6313899c"
      },
      "outputs": [],
      "source": [
        "row = np.arange(5)\n",
        "col = np.arange(3).reshape(3,1)\n",
        "matrix = row + col  # broadcast to 3×5\n",
        "print(matrix)\n"
      ]
    },
    {
      "cell_type": "code",
      "execution_count": null,
      "id": "de718119",
      "metadata": {
        "id": "de718119"
      },
      "outputs": [],
      "source": [
        "# 🖊️ TODO: use broadcasting to create a 10×10 multiplication table.\n",
        "a=np.arange(1,11)\n",
        "b=np.arange(1,11).reshape(10,1)\n",
        "print(a*b)"
      ]
    },
    {
      "cell_type": "markdown",
      "id": "38a618c8",
      "metadata": {
        "id": "38a618c8"
      },
      "source": [
        "## <a name='stats'></a>9️⃣ Statistics & Aggregations"
      ]
    },
    {
      "cell_type": "code",
      "execution_count": null,
      "id": "af9ac70d",
      "metadata": {
        "id": "af9ac70d"
      },
      "outputs": [],
      "source": [
        "data = np.random.default_rng(0).integers(1, 100, size=(5,4))\n",
        "print('data\\n', data)\n",
        "print('row sums', data.sum(axis=1))\n",
        "print('col means', data.mean(axis=0))\n"
      ]
    },
    {
      "cell_type": "code",
      "execution_count": null,
      "id": "63adf5be",
      "metadata": {
        "id": "63adf5be"
      },
      "outputs": [],
      "source": [
        "# 🖊️ TODO: compute `np.percentile` (25th, 50th, 75th) of flattened `data`.\n",
        "a=np.percentile(data,25)\n",
        "b=np.percentile(data,50)\n",
        "c=np.percentile(data,75)\n",
        "print(a,b,c)"
      ]
    },
    {
      "cell_type": "markdown",
      "id": "8f3c00d7",
      "metadata": {
        "id": "8f3c00d7"
      },
      "source": [
        "## <a name='random'></a>🔟 Random Numbers & Reproducibility"
      ]
    },
    {
      "cell_type": "code",
      "execution_count": null,
      "id": "98016975",
      "metadata": {
        "id": "98016975"
      },
      "outputs": [],
      "source": [
        "rng = np.random.default_rng(42)\n",
        "rand_floats = rng.random(5)\n",
        "rand_ints = rng.integers(low=10, high=50, size=5)\n",
        "print(rand_floats, rand_ints)\n",
        "rng2 = np.random.default_rng(42)\n",
        "assert np.allclose(rand_floats, rng2.random(5))\n"
      ]
    },
    {
      "cell_type": "code",
      "execution_count": null,
      "id": "35dbadba",
      "metadata": {
        "id": "35dbadba"
      },
      "outputs": [],
      "source": [
        "# 🖊️ TODO: simulate rolling a fair six‑sided die 100 times; estimate proportion of 6s.\n",
        "a=np.random.default_rng(42).integers(1,7,size=100)\n",
        "print(np.count_nonzero(a==6)/100)"
      ]
    },
    {
      "cell_type": "markdown",
      "id": "6cdb04b2",
      "metadata": {
        "id": "6cdb04b2"
      },
      "source": [
        "## <a name='structured'></a>1️⃣1️⃣ Structured / Record Arrays"
      ]
    },
    {
      "cell_type": "code",
      "execution_count": null,
      "id": "d8f64e42",
      "metadata": {
        "id": "d8f64e42"
      },
      "outputs": [],
      "source": [
        "people = np.array([('Alice', 25, 55.0), ('Bob', 30, 85.5)],\n",
        "                   dtype=[('name','U10'), ('age','i4'), ('weight','f4')])\n",
        "print(people['name'], people['age'].mean())\n"
      ]
    },
    {
      "cell_type": "code",
      "execution_count": 66,
      "id": "7a65fe1d",
      "metadata": {
        "id": "7a65fe1d"
      },
      "outputs": [],
      "source": [
        "# 🖊️ TODO: add a new field 'height' to the structured array using `np.lib.recfunctions.append_fields` (hint: pip install?).\n",
        "a=np.array([('Alice', 25, 55.0), ('Bob', 30, 85.5)],\n",
        "                   dtype=[('name','U10'), ('age','i4'), ('weight','f4')])"
      ]
    },
    {
      "cell_type": "markdown",
      "id": "df5b617b",
      "metadata": {
        "id": "df5b617b"
      },
      "source": [
        "## <a name='linalg'></a>1️⃣2️⃣ Linear Algebra Essentials"
      ]
    },
    {
      "cell_type": "code",
      "execution_count": null,
      "id": "3f7fb475",
      "metadata": {
        "id": "3f7fb475"
      },
      "outputs": [],
      "source": [
        "A = np.random.random((3,3))\n",
        "b = np.random.random(3)\n",
        "x = np.linalg.solve(A, b)\n",
        "print('A·x ≈ b?', np.allclose(A.dot(x), b))\n"
      ]
    },
    {
      "cell_type": "code",
      "execution_count": 65,
      "id": "a8fb02d7",
      "metadata": {
        "colab": {
          "base_uri": "https://localhost:8080/"
        },
        "id": "a8fb02d7",
        "outputId": "ca9ffb24-ee78-4f57-ba9f-a286aa6d6729"
      },
      "outputs": [
        {
          "output_type": "stream",
          "name": "stdout",
          "text": [
            "EigResult(eigenvalues=array([ 1.53780157, -0.32216775, -0.55249817]), eigenvectors=array([[-0.47069545, -0.60707724,  0.0707326 ],\n",
            "       [-0.55323183,  0.78484461, -0.77160626],\n",
            "       [-0.68729931, -0.12440322,  0.63215559]]))\n"
          ]
        }
      ],
      "source": [
        "# 🖊️ TODO: compute eigenvalues of `A` using `np.linalg.eig`.\n",
        "a=np.random.random((3,3))\n",
        "print(np.linalg.eig(a))"
      ]
    },
    {
      "cell_type": "markdown",
      "id": "e8fd753c",
      "metadata": {
        "id": "e8fd753c"
      },
      "source": [
        "## <a name='io'></a>1️⃣3️⃣ File I/O (`npy`, `npz`, `txt`)"
      ]
    },
    {
      "cell_type": "code",
      "execution_count": null,
      "id": "bd6dc026",
      "metadata": {
        "id": "bd6dc026"
      },
      "outputs": [],
      "source": [
        "np.save('array.npy', A)\n",
        "loaded = np.load('array.npy')\n",
        "print('loaded equals A?', np.allclose(loaded, A))\n",
        "np.savez('multi_arrays.npz', A=A, b=b)\n"
      ]
    },
    {
      "cell_type": "code",
      "execution_count": 64,
      "id": "d9552893",
      "metadata": {
        "colab": {
          "base_uri": "https://localhost:8080/"
        },
        "id": "d9552893",
        "outputId": "60e95d9f-95ed-46c3-a062-42bed5867dd0"
      },
      "outputs": [
        {
          "output_type": "stream",
          "name": "stdout",
          "text": [
            "[[85. 64. 51. 27.]\n",
            " [31.  5.  8.  2.]\n",
            " [18. 81. 65. 91.]\n",
            " [50. 61. 97. 73.]\n",
            " [63. 54. 56. 93.]]\n"
          ]
        }
      ],
      "source": [
        "# 🖊️ TODO: Use `np.savetxt` to write `data` (from stats section) to CSV then reload with `np.loadtxt`.\n",
        "a=np.random.default_rng(0).integers(1, 100, size=(5,4))\n",
        "np.savetxt('array.csv',a)\n",
        "print(np.loadtxt('array.csv'))"
      ]
    },
    {
      "cell_type": "markdown",
      "id": "f24f33e3",
      "metadata": {
        "id": "f24f33e3"
      },
      "source": [
        "## <a name='datetime'></a>1️⃣4️⃣ Datetime64 & Timedelta64"
      ]
    },
    {
      "cell_type": "code",
      "execution_count": 61,
      "id": "3ce7b543",
      "metadata": {
        "colab": {
          "base_uri": "https://localhost:8080/"
        },
        "id": "3ce7b543",
        "outputId": "201374ac-fbd0-40c1-b08a-340a27c826b5"
      },
      "outputs": [
        {
          "output_type": "stream",
          "name": "stdout",
          "text": [
            "['2023-01-01' '2023-01-02' '2023-01-03' '2023-01-04' '2023-01-05'] 1 days\n"
          ]
        }
      ],
      "source": [
        "dates = np.arange('2023-01', '2023-04', dtype='datetime64[D]')\n",
        "delta = dates[1:] - dates[:-1]\n",
        "print(dates[:5], delta[0])\n"
      ]
    },
    {
      "cell_type": "code",
      "execution_count": 67,
      "id": "e493d6f8",
      "metadata": {
        "id": "e493d6f8"
      },
      "outputs": [],
      "source": [
        "# 🖊️ TODO: find how many Mondays appear in `dates` array.\n",
        "a=np.arange('2023-01', '2023-04', dtype='datetime64[D]')\n",
        "print(np.count_nonzero(a.weekday==0))"
      ]
    },
    {
      "cell_type": "markdown",
      "id": "636116b9",
      "metadata": {
        "id": "636116b9"
      },
      "source": [
        "## <a name='mask'></a>1️⃣5️⃣ Masked Arrays & NaNs"
      ]
    },
    {
      "cell_type": "code",
      "execution_count": 59,
      "id": "ec30b3ee",
      "metadata": {
        "colab": {
          "base_uri": "https://localhost:8080/"
        },
        "id": "ec30b3ee",
        "outputId": "f1c8bcd8-e526-4744-8f2a-384082e81070"
      },
      "outputs": [
        {
          "output_type": "stream",
          "name": "stdout",
          "text": [
            "2.3333333333333335\n"
          ]
        }
      ],
      "source": [
        "arr = np.array([1, 2, np.nan, 4, np.nan])\n",
        "masked = np.ma.masked_invalid(arr)\n",
        "print(masked.mean())\n"
      ]
    },
    {
      "cell_type": "code",
      "execution_count": 58,
      "id": "1ead3a9c",
      "metadata": {
        "id": "1ead3a9c"
      },
      "outputs": [],
      "source": [
        "# 🖊️ TODO: replace NaNs with column means in a 2‑D array containing NaNs.\n",
        "a=np.array([[1, 2, np.nan, 4, np.nan],[1, 2, 3, 4, 5]])"
      ]
    },
    {
      "cell_type": "markdown",
      "id": "509e6104",
      "metadata": {
        "id": "509e6104"
      },
      "source": [
        "## <a name='project'></a>1️⃣6️⃣ Mini‑Project: Fitness Data Analysis"
      ]
    },
    {
      "cell_type": "markdown",
      "id": "d867d3a6",
      "metadata": {
        "id": "d867d3a6"
      },
      "source": [
        "Load `fitness.txt` (tab‑separated) then follow prompts."
      ]
    },
    {
      "cell_type": "code",
      "execution_count": 53,
      "id": "593e50db",
      "metadata": {
        "colab": {
          "base_uri": "https://localhost:8080/"
        },
        "id": "593e50db",
        "outputId": "a831ab1c-8f3e-4c69-bbf9-237f35cf1983"
      },
      "outputs": [
        {
          "output_type": "stream",
          "name": "stdout",
          "text": [
            "columns: ('date', 'step_count', 'mood', 'calories_burned', 'hours_of_sleep', 'bool_of_active', 'weight_kg') rows: 96\n"
          ]
        }
      ],
      "source": [
        "\n",
        "fitness = np.genfromtxt('fitness.txt', delimiter='\\t', dtype=None, encoding=None, names=True)\n",
        "print('columns:', fitness.dtype.names, 'rows:', len(fitness))"
      ]
    },
    {
      "cell_type": "code",
      "execution_count": 56,
      "id": "32e514d2",
      "metadata": {
        "colab": {
          "base_uri": "https://localhost:8080/"
        },
        "id": "32e514d2",
        "outputId": "efd8e90b-0323-4221-add6-c30cf7f700d3"
      },
      "outputs": [
        {
          "output_type": "stream",
          "name": "stdout",
          "text": [
            "[('06-10-2017', 5464, 200, 181, 5,   0, 66)\n",
            " ('07-10-2017', 6041, 100, 197, 8,   0, 66)\n",
            " ('08-10-2017',   25, 100,   0, 5,   0, 66)\n",
            " ('09-10-2017', 5461, 100, 174, 4,   0, 66)\n",
            " ('10-10-2017', 6915, 200, 223, 5, 500, 66)\n",
            " ('11-10-2017', 4545, 100, 149, 6,   0, 66)\n",
            " ('12-10-2017', 4340, 100, 140, 6,   0, 66)\n",
            " ('13-10-2017', 1230, 100,  38, 7,   0, 66)\n",
            " ('14-10-2017',   61, 100,   1, 5,   0, 66)\n",
            " ('15-10-2017', 1258, 100,  40, 6,   0, 65)\n",
            " ('16-10-2017', 3148, 100, 101, 8,   0, 65)\n",
            " ('17-10-2017', 4687, 100, 152, 5,   0, 65)\n",
            " ('18-10-2017', 4732, 300, 150, 6, 500, 65)\n",
            " ('19-10-2017', 3519, 100, 113, 7,   0, 65)\n",
            " ('20-10-2017', 1580, 100,  49, 5,   0, 65)\n",
            " ('21-10-2017', 2822, 100,  86, 6,   0, 65)\n",
            " ('22-10-2017',  181, 100,   6, 8,   0, 65)\n",
            " ('23-10-2017', 3158, 200,  99, 5,   0, 65)\n",
            " ('24-10-2017', 4383, 200, 143, 4,   0, 64)\n",
            " ('25-10-2017', 3881, 200, 125, 5,   0, 64)\n",
            " ('26-10-2017', 4037, 200, 129, 6,   0, 64)\n",
            " ('27-10-2017',  202, 200,   6, 8,   0, 64)\n",
            " ('28-10-2017',  292, 200,   9, 5,   0, 64)\n",
            " ('29-10-2017',  330, 300,  10, 6,   0, 64)\n",
            " ('30-10-2017', 2209, 200,  72, 5,   0, 64)\n",
            " ('31-10-2017', 4550, 300, 150, 8, 500, 64)\n",
            " ('01-11-2017', 4435, 300, 141, 5,   0, 64)\n",
            " ('02-11-2017', 4779, 300, 156, 4,   0, 64)\n",
            " ('03-11-2017', 1831, 300,  57, 5,   0, 64)\n",
            " ('04-11-2017', 2255, 300,  72, 4,   0, 64)\n",
            " ('05-11-2017',  539, 300,  17, 5, 500, 64)\n",
            " ('06-11-2017', 5464, 300, 181, 4,   0, 64)\n",
            " ('07-11-2017', 6041, 200, 197, 3,   0, 64)\n",
            " ('08-11-2017', 4068, 300, 131, 2,   0, 64)\n",
            " ('09-11-2017', 4683, 300, 154, 9,   0, 64)\n",
            " ('10-11-2017', 4033, 300, 137, 5,   0, 64)\n",
            " ('11-11-2017', 6314, 300, 193, 6, 500, 64)\n",
            " ('12-11-2017',  614, 300,  19, 4, 500, 64)\n",
            " ('13-11-2017', 3149, 300, 101, 5, 500, 64)\n",
            " ('14-11-2017', 4005, 300, 139, 8, 500, 64)\n",
            " ('15-11-2017', 4880, 300, 164, 4, 500, 64)\n",
            " ('16-11-2017', 4136, 300, 137, 5, 500, 64)\n",
            " ('17-11-2017',  705, 300,  22, 6, 500, 64)\n",
            " ('18-11-2017',  570, 200,  17, 5, 500, 64)\n",
            " ('19-11-2017',  269, 300,   9, 6, 500, 64)\n",
            " ('20-11-2017', 4275, 300, 145, 5,   0, 64)\n",
            " ('21-11-2017', 5999, 300, 192, 6,   0, 64)\n",
            " ('22-11-2017', 4421, 300, 146, 5,   0, 64)\n",
            " ('23-11-2017', 6930, 300, 234, 6,   0, 64)\n",
            " ('24-11-2017', 5195, 300, 167, 5,   0, 64)\n",
            " ('25-11-2017',  546, 300,  16, 6,   0, 64)\n",
            " ('26-11-2017',  493, 300,  17, 7, 500, 64)\n",
            " ('27-11-2017',  995, 300,  32, 6, 500, 64)\n",
            " ('28-11-2017', 1163, 200,  35, 7, 500, 64)\n",
            " ('29-11-2017', 6676, 100, 220, 6, 500, 64)\n",
            " ('30-11-2017', 3608, 300, 116, 5, 500, 64)\n",
            " ('01-12-2017',  774, 300,  23, 6, 500, 64)\n",
            " ('02-12-2017', 1421, 300,  44, 7, 500, 64)\n",
            " ('03-12-2017', 4064, 300, 131, 8, 500, 64)\n",
            " ('04-12-2017', 2725, 300,  86, 8, 500, 64)\n",
            " ('05-12-2017', 5934, 300, 194, 7, 500, 64)\n",
            " ('06-12-2017', 1867, 300,  60, 8, 500, 64)\n",
            " ('07-12-2017', 3721, 100, 121, 5, 500, 64)\n",
            " ('08-12-2017', 2374, 200,  76, 4,   0, 64)\n",
            " ('09-12-2017', 2909, 200,  93, 3, 500, 64)\n",
            " ('10-12-2017', 1648, 100,  53, 3, 500, 64)\n",
            " ('11-12-2017',  799, 100,  25, 4,   0, 64)\n",
            " ('12-12-2017', 7102, 200, 227, 5, 500, 64)\n",
            " ('13-12-2017', 3941, 200, 125, 5, 500, 64)\n",
            " ('14-12-2017', 7422, 300, 243, 5, 500, 64)\n",
            " ('15-12-2017',  437, 200,  14, 3, 500, 64)\n",
            " ('16-12-2017', 1231, 200,  39, 4, 500, 64)\n",
            " ('17-12-2017', 1696, 100,  55, 4,   0, 64)\n",
            " ('18-12-2017', 4921, 200, 158, 5, 500, 64)\n",
            " ('19-12-2017',  221, 100,   7, 5, 500, 64)\n",
            " ('20-12-2017', 6500, 200, 213, 5, 500, 64)\n",
            " ('21-12-2017', 3575, 200, 116, 5, 500, 64)\n",
            " ('22-12-2017', 4061, 100, 129, 5,   0, 64)\n",
            " ('23-12-2017',  651, 100,  21, 5,   0, 64)\n",
            " ('24-12-2017',  753, 100,  28, 4,   0, 64)\n",
            " ('25-12-2017',  518, 100,  16, 3,   0, 64)\n",
            " ('26-12-2017', 5537, 300, 180, 4, 500, 64)\n",
            " ('27-12-2017', 4108, 200, 138, 5, 500, 64)\n",
            " ('28-12-2017', 5376, 300, 176, 5, 500, 64)\n",
            " ('29-12-2017', 3066, 200,  99, 4, 500, 64)\n",
            " ('30-12-2017',  177, 100,   5, 5,   0, 64)\n",
            " ('31-12-2017',   36, 100,   1, 3,   0, 64)\n",
            " ('01-01-2018',  299, 100,  10, 3,   0, 64)\n",
            " ('02-01-2018', 1447, 200,  47, 3,   0, 64)\n",
            " ('03-01-2018', 2599, 200,  84, 2,   0, 64)\n",
            " ('04-01-2018',  702, 100,  23, 3,   0, 64)\n",
            " ('05-01-2018',  133, 100,   4, 2,   0, 64)\n",
            " ('06-01-2018',  153, 300,   0, 8,   0, 64)\n",
            " ('07-01-2018',  500, 200,   0, 5, 500, 64)\n",
            " ('08-01-2018', 2127, 200,   0, 5,   0, 64)\n",
            " ('09-01-2018', 2203, 300,   0, 5, 500, 64)]\n"
          ]
        }
      ],
      "source": [
        "# 🖊️ TODO: Monthly step count, sleep vs mood correlation, weekly summary, etc.\n",
        "a=np.genfromtxt('fitness.txt', delimiter='\\t', dtype=None, encoding=None, names=True)\n",
        "print(a)"
      ]
    },
    {
      "cell_type": "markdown",
      "id": "e7c0e1dc",
      "metadata": {
        "id": "e7c0e1dc"
      },
      "source": [
        "## <a name='conclusion'></a>1️⃣7️⃣ Conclusion & Further Practice\n",
        "Congrats on covering **all core NumPy topics** from your five lecture notebooks!\n",
        "\n",
        "*Keep experimenting, read the official docs, and try converting your NumPy pipelines into Pandas or JAX for more fun.*"
      ]
    }
  ],
  "metadata": {
    "colab": {
      "provenance": []
    },
    "language_info": {
      "name": "python"
    },
    "kernelspec": {
      "name": "python3",
      "display_name": "Python 3"
    }
  },
  "nbformat": 4,
  "nbformat_minor": 5
}